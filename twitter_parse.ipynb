{
 "cells": [
  {
   "cell_type": "code",
   "execution_count": 1,
   "metadata": {
    "collapsed": false
   },
   "outputs": [],
   "source": [
    "import twnews_consumer\n",
    "reload(twnews_consumer)\n",
    "\n",
    "from twnews_consumer import main\n"
   ]
  },
  {
   "cell_type": "code",
   "execution_count": 2,
   "metadata": {
    "collapsed": false
   },
   "outputs": [
    {
     "name": "stdout",
     "output_type": "stream",
     "text": [
      "2016-03-27 19:04:23: 123\n"
     ]
    }
   ],
   "source": [
    "import logging\n",
    "logging.info('123')"
   ]
  },
  {
   "cell_type": "code",
   "execution_count": 174,
   "metadata": {
    "collapsed": false
   },
   "outputs": [
    {
     "name": "stdout",
     "output_type": "stream",
     "text": [
      "/tmp/twnews_data/logs/rss.shelve\n"
     ]
    }
   ],
   "source": [
    "from twnews_consumer.twitter_fetcher.fetcher import TwitterFetcher\n",
    "reload(twnews_consumer.twitter_fetcher.fetcher)\n",
    "from twnews_consumer import defaults\n",
    "print defaults.RSS_DB_PATH\n",
    "tf = TwitterFetcher()"
   ]
  },
  {
   "cell_type": "code",
   "execution_count": 175,
   "metadata": {
    "collapsed": false
   },
   "outputs": [],
   "source": [
    "stream = tf.create_tweepy_stream()"
   ]
  },
  {
   "cell_type": "code",
   "execution_count": 176,
   "metadata": {
    "collapsed": false
   },
   "outputs": [],
   "source": [
    "#stream.sample()"
   ]
  },
  {
   "cell_type": "code",
   "execution_count": 211,
   "metadata": {
    "collapsed": false
   },
   "outputs": [],
   "source": [
    "tweets_data = open('/tmp/test.tweets').read()\n",
    "tweets = filter(None, tweets_data.splitlines())\n",
    "tweets = map(json.loads, tweets)"
   ]
  },
  {
   "cell_type": "code",
   "execution_count": 232,
   "metadata": {
    "collapsed": false
   },
   "outputs": [],
   "source": [
    "def is_en(tweet):\n",
    "    return 'delete' not in tweet and tweet['lang'] == 'ru'\n",
    "\n",
    "def parse_tweet(source_text):\n",
    "    tweet = source_text.copy()\n",
    "    if 'delete' not in tweet:\n",
    "        # info about base_tweet\n",
    "        created_at = tweet['created_at']\n",
    "        retweeted = 'retweeted_status' in tweet        \n",
    "        \n",
    "        # go deeper :-)\n",
    "        while 'retweeted_status' in tweet:\n",
    "            tweet = tweet['retweeted_status']\n",
    "        \n",
    "        # info about dest tweet\n",
    "        lang = tweet['lang']\n",
    "        entities = tweet['entities']\n",
    "        text = tweet['text']\n",
    "        \n",
    "        #extract links and media links        \n",
    "        media_links = {}\n",
    "        if 'media' in entities:\n",
    "            for media in entities['media']:\n",
    "                media_links[media['url']] = media['expanded_url']                \n",
    "        links = {}\n",
    "        if 'urls' in entities:\n",
    "            for url in entities['urls']:\n",
    "                links[url['url']] = url['expanded_url']\n",
    "        \n",
    "        #extract hastags\n",
    "        hashtags = {}\n",
    "        if 'hashtags' in tweet['entities']:\n",
    "            for hashtag in tweet['entities']['hashtags']:\n",
    "                hashtags[hashtag['text']] = hashtag['indices']        \n",
    "        \n",
    "        #remove url of all links from the text\n",
    "        for url in media_links.keys() + links.keys():\n",
    "            text = text.replace(url, '')\n",
    "        \n",
    "        return {\n",
    "            'retweeted': retweeted,\n",
    "            'created_at': created_at,\n",
    "            'lang': lang,\n",
    "            'text': text,            \n",
    "            'links': links,\n",
    "            'meida_links': media_links,\n",
    "            'hashtags': hashtags\n",
    "        }\n",
    "#reload(parse_tweet)"
   ]
  },
  {
   "cell_type": "code",
   "execution_count": 233,
   "metadata": {
    "collapsed": false
   },
   "outputs": [],
   "source": [
    "en_tweets = filter(is_en,tweets)\n",
    "errors = []\n",
    "for tweet in en_tweets:\n",
    "    try:\n",
    "        parsed = parse_tweet(tweet)\n",
    "    except Exception as e:\n",
    "        errors.append(tweet)\n",
    "#parsed_tweets = map(parse_tweet, en_tweets)"
   ]
  },
  {
   "cell_type": "code",
   "execution_count": 234,
   "metadata": {
    "collapsed": false
   },
   "outputs": [
    {
     "name": "stdout",
     "output_type": "stream",
     "text": [
      "0 34\n"
     ]
    },
    {
     "ename": "IndexError",
     "evalue": "list index out of range",
     "output_type": "error",
     "traceback": [
      "\u001b[1;31m---------------------------------------------------------------------------\u001b[0m",
      "\u001b[1;31mIndexError\u001b[0m                                Traceback (most recent call last)",
      "\u001b[1;32m<ipython-input-234-79e2f127a68e>\u001b[0m in \u001b[0;36m<module>\u001b[1;34m()\u001b[0m\n\u001b[0;32m      1\u001b[0m \u001b[1;31m#parse_tweet(en_tweets[0])\u001b[0m\u001b[1;33m\u001b[0m\u001b[1;33m\u001b[0m\u001b[0m\n\u001b[0;32m      2\u001b[0m \u001b[1;32mprint\u001b[0m \u001b[0mlen\u001b[0m\u001b[1;33m(\u001b[0m\u001b[0merrors\u001b[0m\u001b[1;33m)\u001b[0m\u001b[1;33m,\u001b[0m \u001b[0mlen\u001b[0m\u001b[1;33m(\u001b[0m\u001b[0men_tweets\u001b[0m\u001b[1;33m)\u001b[0m\u001b[1;33m\u001b[0m\u001b[0m\n\u001b[1;32m----> 3\u001b[1;33m \u001b[0mparse_tweet\u001b[0m\u001b[1;33m(\u001b[0m\u001b[0merrors\u001b[0m\u001b[1;33m[\u001b[0m\u001b[1;36m0\u001b[0m\u001b[1;33m]\u001b[0m\u001b[1;33m)\u001b[0m\u001b[1;33m\u001b[0m\u001b[0m\n\u001b[0m",
      "\u001b[1;31mIndexError\u001b[0m: list index out of range"
     ]
    }
   ],
   "source": [
    "#parse_tweet(en_tweets[0])\n",
    "print len(errors), len(en_tweets)\n",
    "parse_tweet(errors[0])"
   ]
  },
  {
   "cell_type": "code",
   "execution_count": 235,
   "metadata": {
    "collapsed": false
   },
   "outputs": [
    {
     "data": {
      "text/plain": [
       "{'created_at': u'Sun Mar 27 16:11:26 +0000 2016',\n",
       " 'hashtags': {},\n",
       " 'lang': u'ru',\n",
       " 'links': {},\n",
       " 'meida_links': {},\n",
       " 'retweeted': False,\n",
       " 'text': u'\\u0444\\u0443\\u0445.'}"
      ]
     },
     "execution_count": 235,
     "metadata": {},
     "output_type": "execute_result"
    }
   ],
   "source": [
    "parse_tweet(en_tweets[1])"
   ]
  },
  {
   "cell_type": "code",
   "execution_count": 236,
   "metadata": {
    "collapsed": false
   },
   "outputs": [
    {
     "data": {
      "text/plain": [
       "{'created_at': u'Sun Mar 27 16:11:27 +0000 2016',\n",
       " 'hashtags': {},\n",
       " 'lang': u'ru',\n",
       " 'links': {},\n",
       " 'meida_links': {u'https://t.co/gvcGm3oiqu': u'http://twitter.com/elvina0407/status/714122672997855232/photo/1'},\n",
       " 'retweeted': False,\n",
       " 'text': u'\\u041e\\u0442\\u043a\\u0440\\u044b\\u0432\\u0430\\u0435\\u043c \\u0442\\u0430\\u043b\\u0430\\u043d\\u0442\\u044b \\u043d\\u0430 \\u0444\\u0435\\u0441\\u0442\\u0438\\u0432\\u0430\\u043b\\u0435 \\u0434\\u0440\\u0430\\u043c. \\u043a\\u043e\\u043b\\u043b\\u0435\\u043a\\u0442\\u0438\\u0432\\u043e\\u0432 \\u041f\\u041c\\u0420, \\u043f\\u043e\\u0441\\u0432\\u044f\\u0449\\u0451\\u043d\\u043d\\u043e\\u043c \\u0413\\u043e\\u0434\\u0443 \\u043a\\u0438\\u043d\\u043e. \\u0412\\u044b\\u0441\\u0442\\u0443\\u043f\\u043b\\u0435\\u043d\\u0438\\u0435 \\u043a\\u043e\\u043b-\\u0432\\u0430 \\u0420\\u043e\\u0436\\u0434\\u0435\\u0441\\u0442\\u0432\\u0435\\u043d\\u0441\\u043a\\u043e\\u0433\\u043e \\u0421\\u0414\\u041a '}"
      ]
     },
     "execution_count": 236,
     "metadata": {},
     "output_type": "execute_result"
    }
   ],
   "source": [
    "parse_tweet(en_tweets[2])"
   ]
  },
  {
   "cell_type": "code",
   "execution_count": 237,
   "metadata": {
    "collapsed": false
   },
   "outputs": [
    {
     "data": {
      "text/plain": [
       "{'created_at': u'Sun Mar 27 16:11:29 +0000 2016',\n",
       " 'hashtags': {u'\\u041e\\u0431\\u0430\\u043c\\u0430': [107, 113]},\n",
       " 'lang': u'ru',\n",
       " 'links': {},\n",
       " 'meida_links': {u'https://t.co/87z45OyhVH': u'http://twitter.com/vlad_zhukovskiy/status/714100713228513285/photo/1'},\n",
       " 'retweeted': True,\n",
       " 'text': u'\\u041f\\u0438\\u043f\\u043b \\u0445\\u0430\\u0432\\u0430\\u0435\\u0442: \\u0432 \\u0440\\u043e\\u0441\\u0442\\u0435 \\u0446\\u0435\\u043d \\u0438 \\u0430\\u043a\\u0446\\u0438\\u0437\\u043e\\u0432 \\u043d\\u0430 \\u0442\\u043e\\u043f\\u043b\\u0438\\u0432\\u043e \\u0438 \\u0442\\u0430\\u0440\\u0438\\u0444\\u043e\\u0432 \\u0416\\u041a\\u0425, \\u0441\\u0431\\u043e\\u0440\\u0430\\u0445 \\u0437\\u0430 \\u043a\\u0430\\u043f\\u0440\\u0435\\u043c\\u043e\\u043d\\u0442 \\u0438 \\u043f\\u0430\\u0434\\u0435\\u043d\\u0438\\u0438 \\u0437\\u0430\\u0440\\u043f\\u043b\\u0430\\u0442 \\u0432\\u0438\\u043d\\u043e\\u0432\\u0430\\u0442 #\\u041e\\u0431\\u0430\\u043c\\u0430 '}"
      ]
     },
     "execution_count": 237,
     "metadata": {},
     "output_type": "execute_result"
    }
   ],
   "source": [
    "parse_tweet(en_tweets[3])"
   ]
  },
  {
   "cell_type": "code",
   "execution_count": 238,
   "metadata": {
    "collapsed": false
   },
   "outputs": [
    {
     "data": {
      "text/plain": [
       "{'created_at': u'Sun Mar 27 16:17:37 +0000 2016',\n",
       " 'hashtags': {},\n",
       " 'lang': u'ru',\n",
       " 'links': {},\n",
       " 'meida_links': {},\n",
       " 'retweeted': False,\n",
       " 'text': u'\\u043a\\u0430\\u043a \\u043f\\u0435\\u0440\\u0435\\u0441\\u043f\\u0430\\u0442\\u044c \\u0441\\u043e \\u0432\\u0441\\u0435\\u043c \\u043c\\u0438\\u0440\\u043e\\u043c?'}"
      ]
     },
     "execution_count": 238,
     "metadata": {},
     "output_type": "execute_result"
    }
   ],
   "source": [
    "parse_tweet(en_tweets[4])"
   ]
  },
  {
   "cell_type": "code",
   "execution_count": 239,
   "metadata": {
    "collapsed": false
   },
   "outputs": [
    {
     "data": {
      "text/plain": [
       "{'created_at': u'Sun Mar 27 16:17:38 +0000 2016',\n",
       " 'hashtags': {},\n",
       " 'lang': u'ru',\n",
       " 'links': {},\n",
       " 'meida_links': {},\n",
       " 'retweeted': True,\n",
       " 'text': u'\\u041c\\u043d\\u0435 \\u0440\\u0430\\u043d\\u043e \\u0437\\u0430\\u0432\\u043e\\u0434\\u0438\\u0442\\u044c \\u0434\\u0435\\u0442\\u0435\\u0439. \\u042f \\u043c\\u043e\\u0440\\u0430\\u043b\\u044c\\u043d\\u043e \\u043d\\u0435 \\u0433\\u043e\\u0442\\u043e\\u0432 \\u043f\\u043e\\u043a\\u0443\\u043f\\u0430\\u0442\\u044c \\u043a\\u0438\\u043d\\u0434\\u0435\\u0440-\\u0441\\u044e\\u0440\\u043f\\u0440\\u0438\\u0437 \\u0438 \\u043e\\u0442\\u0434\\u0430\\u0432\\u0430\\u0442\\u044c \\u0435\\u0433\\u043e \\u043a\\u043e\\u043c\\u0443-\\u0442\\u043e.'}"
      ]
     },
     "execution_count": 239,
     "metadata": {},
     "output_type": "execute_result"
    }
   ],
   "source": [
    "parse_tweet(en_tweets[5])"
   ]
  },
  {
   "cell_type": "code",
   "execution_count": null,
   "metadata": {
    "collapsed": true
   },
   "outputs": [],
   "source": []
  },
  {
   "cell_type": "code",
   "execution_count": null,
   "metadata": {
    "collapsed": true
   },
   "outputs": [],
   "source": []
  },
  {
   "cell_type": "code",
   "execution_count": null,
   "metadata": {
    "collapsed": true
   },
   "outputs": [],
   "source": []
  },
  {
   "cell_type": "code",
   "execution_count": null,
   "metadata": {
    "collapsed": true
   },
   "outputs": [],
   "source": []
  }
 ],
 "metadata": {
  "kernelspec": {
   "display_name": "Python 2",
   "language": "python",
   "name": "python2"
  },
  "language_info": {
   "codemirror_mode": {
    "name": "ipython",
    "version": 2
   },
   "file_extension": ".py",
   "mimetype": "text/x-python",
   "name": "python",
   "nbconvert_exporter": "python",
   "pygments_lexer": "ipython2",
   "version": "2.7.10"
  }
 },
 "nbformat": 4,
 "nbformat_minor": 0
}
