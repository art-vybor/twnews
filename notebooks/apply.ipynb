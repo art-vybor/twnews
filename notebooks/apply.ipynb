{
 "cells": [
  {
   "cell_type": "code",
   "execution_count": 94,
   "metadata": {
    "collapsed": false
   },
   "outputs": [],
   "source": [
    "import argparse\n",
    "import logging\n",
    "import sys\n",
    "\n",
    "import numpy as np\n",
    "import heapq\n",
    "from twnews import defaults\n",
    "from twnews.dataset.dataset import Dataset\n",
    "from twnews.resolver import resolve, url_analyse\n",
    "from twnews.utils.memoize import memo_process, load, dump\n",
    "from twnews.utils.text_processors import lemmatize_texts, build_tf_idf_matrix\n",
    "from twnews.wtmf.wtmf import WTMF\n",
    "from scipy.sparse import find, csr_matrix, csc_matrix"
   ]
  },
  {
   "cell_type": "code",
   "execution_count": 144,
   "metadata": {
    "collapsed": false
   },
   "outputs": [
    {
     "name": "stdout",
     "output_type": "stream",
     "text": [
      "10 10\n"
     ]
    }
   ],
   "source": [
    "news = load('news_applied')[:10]\n",
    "tweets = load('documents_applied')[:10]\n",
    "\n",
    "print len(news), len(tweets)\n",
    "#recommendation = recommend(news, tweets, top_size=10)"
   ]
  },
  {
   "cell_type": "code",
   "execution_count": 152,
   "metadata": {
    "collapsed": false
   },
   "outputs": [
    {
     "name": "stdout",
     "output_type": "stream",
     "text": [
      "tweets converted\n",
      "news converted\n"
     ]
    }
   ],
   "source": [
    "from sklearn.metrics.pairwise import cosine_similarity\n",
    "from scipy import sparse\n",
    "def convert_to_compare_matrix(documents):\n",
    "    dim = documents[0].compare_vector.shape[0]\n",
    "\n",
    "    data, row_idxs, column_idxs = [], [], []\n",
    "    for column_idx, document in enumerate(documents):\n",
    "        rows,_,x=  find(document.compare_vector)\n",
    "        for i, value in enumerate(x):\n",
    "            data.append(x[i])\n",
    "            row_idxs.append(rows[i])\n",
    "            column_idxs.append(column_idx)\n",
    "            \n",
    "    compare_matrix = sparse.csr_matrix((data, (row_idxs, column_idxs)), shape=(dim, len(documents)))\n",
    "    return compare_matrix\n",
    "\n",
    "tweets_matrix = convert_to_compare_matrix(tweets[:10])\n",
    "print 'tweets converted'\n",
    "news_matrix = convert_to_compare_matrix(news)\n",
    "print 'news converted'\n",
    "\n"
   ]
  },
  {
   "cell_type": "code",
   "execution_count": 153,
   "metadata": {
    "collapsed": false
   },
   "outputs": [],
   "source": [
    "mat = cosine_similarity(tweets_matrix.T, news_matrix.T)\n"
   ]
  },
  {
   "cell_type": "code",
   "execution_count": 156,
   "metadata": {
    "collapsed": false
   },
   "outputs": [
    {
     "name": "stdout",
     "output_type": "stream",
     "text": [
      "[[ 0.          0.          0.          0.          0.          0.          0.\n",
      "   0.          0.          0.        ]\n",
      " [ 0.01340223  0.          0.          0.          0.          0.          0.\n",
      "   0.          0.          0.        ]\n",
      " [ 0.          0.          0.          0.          0.          0.          0.\n",
      "   0.          0.          0.        ]\n",
      " [ 0.02844482  0.          0.          0.          0.          0.\n",
      "   0.02469734  0.          0.          0.        ]\n",
      " [ 0.          0.          0.          0.          0.          0.          0.\n",
      "   0.          0.          0.        ]\n",
      " [ 0.          0.          0.          0.01474232  0.          0.02969134\n",
      "   0.03726059  0.02312094  0.          0.        ]\n",
      " [ 0.          0.          0.          0.          0.          0.          0.\n",
      "   0.          0.          0.        ]\n",
      " [ 0.          0.          0.          0.          0.          0.          0.\n",
      "   0.          0.          0.04299861]\n",
      " [ 0.02783191  0.          0.          0.05294611  0.          0.          0.\n",
      "   0.          0.          0.        ]\n",
      " [ 0.          0.          0.          0.          0.          0.          0.\n",
      "   0.          0.01483207  0.        ]]\n"
     ]
    }
   ],
   "source": [
    "print mat"
   ]
  },
  {
   "cell_type": "code",
   "execution_count": 155,
   "metadata": {
    "collapsed": false
   },
   "outputs": [],
   "source": [
    "from scipy.sparse import find\n",
    "def generate(data, corpus):\n",
    "    v = data.compare_vector\n",
    "    idx,_,_ = find(v)\n",
    "    k = [corpus[x] for x in idx]\n",
    "    for x in k: print x, \n",
    "    print ''\n",
    "    "
   ]
  },
  {
   "cell_type": "code",
   "execution_count": 157,
   "metadata": {
    "collapsed": false
   },
   "outputs": [],
   "source": [
    "recoms = load('recommendation')\n"
   ]
  },
  {
   "cell_type": "code",
   "execution_count": 158,
   "metadata": {
    "collapsed": false
   },
   "outputs": [],
   "source": [
    "with open('/home/avybornov/tfidf_result','w') as f:\n",
    "    for tweet, news in recoms[:100]:\n",
    "        f.write('TWEET: {TWEET}\\n{URLS}\\n'.format(\n",
    "            TWEET=tweet,\n",
    "            URLS=tweet.urls))\n",
    "        \n",
    "        #f.write(str(tweet.urls) + '')\n",
    "        for idx, news_tuple in enumerate(news):\n",
    "            _news, score = news_tuple\n",
    "            target = 'TARGET' if _news.link in tweet.urls else ''\n",
    "            f.write('\\t{ID}) {TARGET}NEWS: {NEWS} {SCORE} {LINK}\\n'.format(\n",
    "                ID=idx+1,\n",
    "                TARGET=target,\n",
    "                NEWS=_news,\n",
    "                SCORE=score,\n",
    "                LINK=_news.link))\n",
    "    "
   ]
  },
  {
   "cell_type": "code",
   "execution_count": 105,
   "metadata": {
    "collapsed": false
   },
   "outputs": [
    {
     "name": "stdout",
     "output_type": "stream",
     "text": [
      "0.786178571429\n"
     ]
    }
   ],
   "source": [
    "RR = 0.0\n",
    "for tweet, news in recoms:\n",
    "    for i, single_news_tuple in enumerate(news):\n",
    "        single_news, score = single_news_tuple\n",
    "        if single_news.link in tweet.urls:\n",
    "            RR += 1.0/(i+1)\n",
    "            break\n",
    "print RR/len(recoms)"
   ]
  },
  {
   "cell_type": "code",
   "execution_count": null,
   "metadata": {
    "collapsed": false
   },
   "outputs": [],
   "source": []
  },
  {
   "cell_type": "code",
   "execution_count": null,
   "metadata": {
    "collapsed": false
   },
   "outputs": [],
   "source": []
  },
  {
   "cell_type": "code",
   "execution_count": null,
   "metadata": {
    "collapsed": false
   },
   "outputs": [],
   "source": []
  },
  {
   "cell_type": "code",
   "execution_count": null,
   "metadata": {
    "collapsed": true
   },
   "outputs": [],
   "source": []
  },
  {
   "cell_type": "code",
   "execution_count": 118,
   "metadata": {
    "collapsed": false
   },
   "outputs": [],
   "source": [
    "def cosine_similarity(v1,v2):\n",
    "    \"compute cosine similarity of v1 to v2: (v1 dot v2)/{||v1||*||v2||)\"\n",
    "    _, v1_idxs, value = sparse.find(v1)\n",
    "    _, v2_idxs, value = sparse.find(v2)\n",
    "    \n",
    "    sumxx, sumxy, sumyy = 0, 0, 0\n",
    "    for i in set(np.append(v1_idxs, v2_idxs)):\n",
    "        x = v1[(0,i)]; y = v2[(0,i)]\n",
    "        sumxx += x*x\n",
    "        sumyy += y*y\n",
    "        sumxy += x*y\n",
    "    return sumxy/math.sqrt(sumxx*sumyy)\n"
   ]
  },
  {
   "cell_type": "code",
   "execution_count": 121,
   "metadata": {
    "collapsed": false
   },
   "outputs": [],
   "source": [
    "from scipy import sparse\n",
    "x = sparse.csr_matrix([0,0,1,2])\n",
    "y = sparse.csr_matrix([1,0,1,1])"
   ]
  },
  {
   "cell_type": "code",
   "execution_count": 122,
   "metadata": {
    "collapsed": false
   },
   "outputs": [
    {
     "name": "stdout",
     "output_type": "stream",
     "text": [
      "0\n",
      "2\n",
      "3\n",
      "0.774596669241\n"
     ]
    }
   ],
   "source": [
    "print cosine_similarity(x,y)"
   ]
  },
  {
   "cell_type": "code",
   "execution_count": 75,
   "metadata": {
    "collapsed": false
   },
   "outputs": [
    {
     "name": "stdout",
     "output_type": "stream",
     "text": [
      "  (0, 2)\t1\n",
      "  (0, 3)\t2\n"
     ]
    }
   ],
   "source": [
    "for x in a:\n",
    "    print x\n",
    "    break"
   ]
  },
  {
   "cell_type": "code",
   "execution_count": 78,
   "metadata": {
    "collapsed": false
   },
   "outputs": [],
   "source": [
    "import sklearn\n",
    "from sklearn.metrics.pairwise import cosine_similarity \n",
    "a = cosine_similarity(x,y)\n",
    "#sklearn.metrics.pairwise.pairwise_distances(x,y,metric='cosine')"
   ]
  },
  {
   "cell_type": "code",
   "execution_count": 83,
   "metadata": {
    "collapsed": false
   },
   "outputs": [
    {
     "name": "stdout",
     "output_type": "stream",
     "text": [
      "0.774596669241\n"
     ]
    }
   ],
   "source": [
    "print a[0][0]"
   ]
  },
  {
   "cell_type": "code",
   "execution_count": 113,
   "metadata": {
    "collapsed": false
   },
   "outputs": [
    {
     "data": {
      "text/plain": [
       "array([2, 3], dtype=int32)"
      ]
     },
     "execution_count": 113,
     "metadata": {},
     "output_type": "execute_result"
    }
   ],
   "source": [
    "_, v1_idxs, value = sparse.find(x)\n",
    "v1_idxs"
   ]
  },
  {
   "cell_type": "code",
   "execution_count": 117,
   "metadata": {
    "collapsed": false
   },
   "outputs": [
    {
     "data": {
      "text/plain": [
       "{2, 3}"
      ]
     },
     "execution_count": 117,
     "metadata": {},
     "output_type": "execute_result"
    }
   ],
   "source": [
    "set(np.append(v1_idxs, v1_idxs))"
   ]
  },
  {
   "cell_type": "code",
   "execution_count": 135,
   "metadata": {
    "collapsed": false
   },
   "outputs": [
    {
     "name": "stdout",
     "output_type": "stream",
     "text": [
      "(25290, 18035)\n",
      "(25290, 1)\n",
      "(25290, 18035)\n",
      "(25290, 1)\n"
     ]
    }
   ],
   "source": [
    "corpus, tf_idf_matrix = load('tf_idf_corpus')\n",
    "print tf_idf_matrix.shape\n",
    "print tf_idf_matrix[:,1].shape\n",
    "tf_idf_matrix = sparse.csr_matrix(tf_idf_matrix)\n",
    "print tf_idf_matrix.shape\n",
    "print tf_idf_matrix[:,1].shape"
   ]
  },
  {
   "cell_type": "code",
   "execution_count": 137,
   "metadata": {
    "collapsed": false
   },
   "outputs": [
    {
     "name": "stdout",
     "output_type": "stream",
     "text": [
      "(3, 18035)\n",
      "(3, 1)\n"
     ]
    },
    {
     "ename": "NameError",
     "evalue": "name 'find' is not defined",
     "output_type": "error",
     "traceback": [
      "\u001b[1;31m---------------------------------------------------------------------------\u001b[0m",
      "\u001b[1;31mNameError\u001b[0m                                 Traceback (most recent call last)",
      "\u001b[1;32m<ipython-input-137-14676befd56f>\u001b[0m in \u001b[0;36m<module>\u001b[1;34m()\u001b[0m\n\u001b[0;32m      2\u001b[0m \u001b[1;32mprint\u001b[0m \u001b[0mQ\u001b[0m\u001b[1;33m.\u001b[0m\u001b[0mshape\u001b[0m\u001b[1;33m\u001b[0m\u001b[0m\n\u001b[0;32m      3\u001b[0m \u001b[1;32mprint\u001b[0m \u001b[0mQ\u001b[0m\u001b[1;33m[\u001b[0m\u001b[1;33m:\u001b[0m\u001b[1;33m,\u001b[0m\u001b[1;36m1\u001b[0m\u001b[1;33m]\u001b[0m\u001b[1;33m.\u001b[0m\u001b[0mshape\u001b[0m\u001b[1;33m\u001b[0m\u001b[0m\n\u001b[1;32m----> 4\u001b[1;33m \u001b[1;32mprint\u001b[0m \u001b[0mfind\u001b[0m\u001b[1;33m(\u001b[0m\u001b[0mQ\u001b[0m\u001b[1;33m[\u001b[0m\u001b[1;33m:\u001b[0m\u001b[1;33m,\u001b[0m\u001b[1;36m1\u001b[0m\u001b[1;33m]\u001b[0m\u001b[1;33m)\u001b[0m\u001b[1;33m\u001b[0m\u001b[0m\n\u001b[0m",
      "\u001b[1;31mNameError\u001b[0m: name 'find' is not defined"
     ]
    }
   ],
   "source": [
    "P, Q = load('model_1_3')\n",
    "print Q.shape\n",
    "print Q[:,1].shape\n",
    "print find(Q[:,1])\n"
   ]
  },
  {
   "cell_type": "code",
   "execution_count": 130,
   "metadata": {
    "collapsed": false
   },
   "outputs": [
    {
     "data": {
      "text/plain": [
       "<25290x18035 sparse matrix of type '<type 'numpy.float64'>'\n",
       "\twith 314036 stored elements in Compressed Sparse Column format>"
      ]
     },
     "execution_count": 130,
     "metadata": {},
     "output_type": "execute_result"
    }
   ],
   "source": [
    "tf_idf_matrix"
   ]
  },
  {
   "cell_type": "code",
   "execution_count": null,
   "metadata": {
    "collapsed": true
   },
   "outputs": [],
   "source": []
  }
 ],
 "metadata": {
  "kernelspec": {
   "display_name": "Python 2",
   "language": "python",
   "name": "python2"
  },
  "language_info": {
   "codemirror_mode": {
    "name": "ipython",
    "version": 2
   },
   "file_extension": ".py",
   "mimetype": "text/x-python",
   "name": "python",
   "nbconvert_exporter": "python",
   "pygments_lexer": "ipython2",
   "version": "2.7.10"
  }
 },
 "nbformat": 4,
 "nbformat_minor": 0
}
