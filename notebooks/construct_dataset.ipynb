{
 "cells": [
  {
   "cell_type": "code",
   "execution_count": 12,
   "metadata": {
    "collapsed": false
   },
   "outputs": [],
   "source": [
    "import os\n",
    "from twnews.utils.memoize import load, dump\n",
    "\n",
    "files = ['1_filtred_alpha/manual_tweets',\n",
    "         '2_filtred_beta/manual_tweets',\n",
    "         '3_filtred/0/manual_tweets',\n",
    "         '3_filtred/1000/manual_tweets',\n",
    "         '3_filtred/2000/manual_tweets',\n",
    "         '3_filtred/3000/manual_tweets',\n",
    "         '3_filtred/4000/manual_tweets',\n",
    "]\n",
    "dataset = load('dataset')\n",
    "manual_datasets = [load(os.path.join('/home/avybornov/git/twnews/dataset_markdown', filename)) for filename in files]"
   ]
  },
  {
   "cell_type": "code",
   "execution_count": 16,
   "metadata": {
    "collapsed": false
   },
   "outputs": [],
   "source": [
    "manual_tweets = []\n",
    "for manual_dataset in manual_datasets:\n",
    "    manual_tweets.extend(manual_dataset)"
   ]
  },
  {
   "cell_type": "code",
   "execution_count": 20,
   "metadata": {
    "collapsed": false
   },
   "outputs": [],
   "source": [
    "from copy import deepcopy\n",
    "from twnews.dataset.storage import TweetsStorage\n",
    "\n",
    "#dataset_copy = deepcopy(dataset)\n",
    "#dataset_copy.tweets = TweetsStorage(init_by_prepared_tweets = manual_tweets)\n",
    "dump(manual_tweets, 'manual_tweets')"
   ]
  },
  {
   "cell_type": "code",
   "execution_count": null,
   "metadata": {
    "collapsed": true
   },
   "outputs": [],
   "source": []
  }
 ],
 "metadata": {
  "kernelspec": {
   "display_name": "Python 2",
   "language": "python",
   "name": "python2"
  },
  "language_info": {
   "codemirror_mode": {
    "name": "ipython",
    "version": 2
   },
   "file_extension": ".py",
   "mimetype": "text/x-python",
   "name": "python",
   "nbconvert_exporter": "python",
   "pygments_lexer": "ipython2",
   "version": "2.7.10"
  }
 },
 "nbformat": 4,
 "nbformat_minor": 0
}
