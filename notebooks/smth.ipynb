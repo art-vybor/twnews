{
 "cells": [
  {
   "cell_type": "code",
   "execution_count": 8,
   "metadata": {
    "collapsed": true
   },
   "outputs": [],
   "source": [
    "from twnews.utils.memoize import load, dump\n",
    "import os"
   ]
  },
  {
   "cell_type": "code",
   "execution_count": 11,
   "metadata": {
    "collapsed": false
   },
   "outputs": [
    {
     "name": "stdout",
     "output_type": "stream",
     "text": [
      "dataset_auto_0.5\n",
      "dataset_auto_0.5\n",
      "13711 746\n",
      "-------------\n",
      "dataset_cutted_0.5\n",
      "dataset_cutted_0.5\n",
      "6011 1709\n",
      "-------------\n",
      "dataset_manual_0.5\n",
      "dataset_manual_0.5\n",
      "13711 976\n",
      "-------------\n",
      "dataset_total_0.5\n",
      "dataset_total_0.5\n",
      "13711 1709\n",
      "-------------\n",
      "dataset_auto_0.0\n",
      "dataset_auto_0.0\n",
      "13711 4324\n",
      "-------------\n",
      "dataset_cutted_0.0\n",
      "dataset_cutted_0.0\n",
      "6011 5798\n",
      "-------------\n",
      "dataset_manual_0.0\n",
      "dataset_manual_0.0\n",
      "13711 1600\n",
      "-------------\n",
      "dataset_total_0.0\n",
      "dataset_total_0.0\n",
      "13711 5798\n",
      "-------------\n"
     ]
    }
   ],
   "source": [
    "dirname = \"/home/avybornov/twnews_data_april/gold_dataset\"\n",
    "datasets = ['dataset_auto_0.5', 'dataset_cutted_0.5', 'dataset_manual_0.5', 'dataset_total_0.5',\n",
    "'dataset_auto_0.0', 'dataset_cutted_0.0', 'dataset_manual_0.0', 'dataset_total_0.0']\n",
    "\n",
    "for dataset_name in datasets:\n",
    "    print dataset_name\n",
    "    dataset = load(os.path.join(dirname, dataset_name))\n",
    "#     if 'cutted' in dataset_name:\n",
    "#         dataset.type = 'cutted'\n",
    "#     if 'total' in dataset_name:\n",
    "#         dataset.type = 'total'\n",
    "#     dump(dataset, dataset_name, dirname + '/1')\n",
    "    print dataset.name()\n",
    "    print dataset.news.length(),dataset.tweets.length()\n",
    "    print '-------------'"
   ]
  },
  {
   "cell_type": "code",
   "execution_count": null,
   "metadata": {
    "collapsed": true
   },
   "outputs": [],
   "source": []
  },
  {
   "cell_type": "code",
   "execution_count": null,
   "metadata": {
    "collapsed": true
   },
   "outputs": [],
   "source": []
  }
 ],
 "metadata": {
  "kernelspec": {
   "display_name": "Python 2",
   "language": "python",
   "name": "python2"
  },
  "language_info": {
   "codemirror_mode": {
    "name": "ipython",
    "version": 2
   },
   "file_extension": ".py",
   "mimetype": "text/x-python",
   "name": "python",
   "nbconvert_exporter": "python",
   "pygments_lexer": "ipython2",
   "version": "2.7.10"
  }
 },
 "nbformat": 4,
 "nbformat_minor": 0
}
