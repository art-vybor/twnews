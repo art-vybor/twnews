{
 "cells": [
  {
   "cell_type": "code",
   "execution_count": 1,
   "metadata": {
    "collapsed": false
   },
   "outputs": [],
   "source": [
    "import twnews_consumer\n",
    "reload(twnews_consumer)\n",
    "\n",
    "from twnews_consumer import main\n"
   ]
  },
  {
   "cell_type": "code",
   "execution_count": 2,
   "metadata": {
    "collapsed": false
   },
   "outputs": [
    {
     "name": "stdout",
     "output_type": "stream",
     "text": [
      "2016-03-27 19:04:23: 123\n"
     ]
    }
   ],
   "source": [
    "import logging\n",
    "logging.info('123')"
   ]
  },
  {
   "cell_type": "code",
   "execution_count": 174,
   "metadata": {
    "collapsed": false
   },
   "outputs": [
    {
     "name": "stdout",
     "output_type": "stream",
     "text": [
      "/tmp/twnews_data/logs/rss.shelve\n"
     ]
    }
   ],
   "source": [
    "from twnews_consumer.twitter_fetcher.fetcher import TwitterFetcher\n",
    "reload(twnews_consumer.twitter_fetcher.fetcher)\n",
    "from twnews_consumer import defaults\n",
    "print defaults.RSS_DB_PATH\n",
    "tf = TwitterFetcher()"
   ]
  },
  {
   "cell_type": "code",
   "execution_count": 175,
   "metadata": {
    "collapsed": false
   },
   "outputs": [],
   "source": [
    "stream = tf.create_tweepy_stream()"
   ]
  },
  {
   "cell_type": "code",
   "execution_count": 176,
   "metadata": {
    "collapsed": false
   },
   "outputs": [],
   "source": [
    "#stream.sample()"
   ]
  },
  {
   "cell_type": "code",
   "execution_count": 211,
   "metadata": {
    "collapsed": false
   },
   "outputs": [],
   "source": [
    "tweets_data = open('/tmp/test.tweets').read()\n",
    "tweets = filter(None, tweets_data.splitlines())\n",
    "tweets = map(json.loads, tweets)"
   ]
  },
  {
   "cell_type": "code",
   "execution_count": 232,
   "metadata": {
    "collapsed": false
   },
   "outputs": [],
   "source": [
    "def is_en(tweet):\n",
    "    return 'delete' not in tweet and tweet['lang'] == 'ru'\n",
    "\n",
    "def parse_tweet(source_text):\n",
    "    tweet = source_text.copy()\n",
    "    if 'delete' not in tweet:\n",
    "        # info about base_tweet\n",
    "        created_at = tweet['created_at']\n",
    "        retweeted = 'retweeted_status' in tweet        \n",
    "        \n",
    "        # go deeper :-)\n",
    "        while 'retweeted_status' in tweet:\n",
    "            tweet = tweet['retweeted_status']\n",
    "        \n",
    "        # info about dest tweet\n",
    "        lang = tweet['lang']\n",
    "        entities = tweet['entities']\n",
    "        text = tweet['text']\n",
    "        \n",
    "        #extract links and media links        \n",
    "        media_links = {}\n",
    "        if 'media' in entities:\n",
    "            for media in entities['media']:\n",
    "                media_links[media['url']] = media['expanded_url']                \n",
    "        links = {}\n",
    "        if 'urls' in entities:\n",
    "            for url in entities['urls']:\n",
    "                links[url['url']] = url['expanded_url']\n",
    "        \n",
    "        #extract hastags\n",
    "        hashtags = {}\n",
    "        if 'hashtags' in tweet['entities']:\n",
    "            for hashtag in tweet['entities']['hashtags']:\n",
    "                hashtags[hashtag['text']] = hashtag['indices']        \n",
    "        \n",
    "        #remove url of all links from the text\n",
    "        for url in media_links.keys() + links.keys():\n",
    "            text = text.replace(url, '')\n",
    "        \n",
    "        return {\n",
    "            'retweeted': retweeted,\n",
    "            'created_at': created_at,\n",
    "            'lang': lang,\n",
    "            'text': text,            \n",
    "            'links': links,\n",
    "            'meida_links': media_links,\n",
    "            'hashtags': hashtags\n",
    "        }\n",
    "#reload(parse_tweet)"
   ]
  },
  {
   "cell_type": "code",
   "execution_count": 233,
   "metadata": {
    "collapsed": false
   },
   "outputs": [],
   "source": [
    "en_tweets = filter(is_en,tweets)\n",
    "errors = []\n",
    "for tweet in en_tweets:\n",
    "    try:\n",
    "        parsed = parse_tweet(tweet)\n",
    "    except Exception as e:\n",
    "        errors.append(tweet)\n",
    "#parsed_tweets = map(parse_tweet, en_tweets)"
   ]
  },
  {
   "cell_type": "code",
   "execution_count": 240,
   "metadata": {
    "collapsed": false
   },
   "outputs": [
    {
     "name": "stdout",
     "output_type": "stream",
     "text": [
      "0 34\n"
     ]
    },
    {
     "data": {
      "text/plain": [
       "{u'contributors': None,\n",
       " u'coordinates': None,\n",
       " u'created_at': u'Sun Mar 27 16:11:26 +0000 2016',\n",
       " u'entities': {u'hashtags': [],\n",
       "  u'symbols': [],\n",
       "  u'urls': [],\n",
       "  u'user_mentions': []},\n",
       " u'favorite_count': 0,\n",
       " u'favorited': False,\n",
       " u'filter_level': u'low',\n",
       " u'geo': None,\n",
       " u'id': 714122668803551232,\n",
       " u'id_str': u'714122668803551232',\n",
       " u'in_reply_to_screen_name': None,\n",
       " u'in_reply_to_status_id': None,\n",
       " u'in_reply_to_status_id_str': None,\n",
       " u'in_reply_to_user_id': None,\n",
       " u'in_reply_to_user_id_str': None,\n",
       " u'is_quote_status': False,\n",
       " u'lang': u'ru',\n",
       " u'place': None,\n",
       " u'retweet_count': 0,\n",
       " u'retweeted': False,\n",
       " u'source': u'<a href=\"http://ifttt.com\" rel=\"nofollow\">IFTTT</a>',\n",
       " u'text': u'\\u0420\\u0435\\u0446\\u0435\\u043f\\u0442 \\u043a\\u0430\\u043b\\u044c\\u043c\\u0430\\u0440\\u043e\\u0432 \\u0432 \\u0441\\u043c\\u0435\\u0442\\u0430\\u043d\\u043d\\u043e\\u043c \\u0441\\u043e\\u0443\\u0441\\u0435 \\u041b\\u044e\\u0431\\u0438\\u0442\\u0435\\u043b\\u044f\\u043c \\u043c\\u043e\\u0440\\u0435\\u043f\\u0440\\u043e\\u0434\\u0443\\u043a\\u0442\\u043e\\u0432...',\n",
       " u'timestamp_ms': u'1459095086657',\n",
       " u'truncated': False,\n",
       " u'user': {u'contributors_enabled': False,\n",
       "  u'created_at': u'Wed Nov 05 17:44:34 +0000 2014',\n",
       "  u'default_profile': False,\n",
       "  u'default_profile_image': False,\n",
       "  u'description': u\"Colorado's source for breaking news and information. Tweets by @danielboniface @laurakeeney @kgallegos @ericjlubbers. Send tips here or tips@denverpost.com.\",\n",
       "  u'favourites_count': 0,\n",
       "  u'follow_request_sent': None,\n",
       "  u'followers_count': 0,\n",
       "  u'following': None,\n",
       "  u'friends_count': 0,\n",
       "  u'geo_enabled': False,\n",
       "  u'id': 2890998036,\n",
       "  u'id_str': u'2890998036',\n",
       "  u'is_translator': False,\n",
       "  u'lang': u'en',\n",
       "  u'listed_count': 0,\n",
       "  u'location': None,\n",
       "  u'name': u'Brian Martinez',\n",
       "  u'notifications': None,\n",
       "  u'profile_background_color': u'C0DEED',\n",
       "  u'profile_background_image_url': u'http://pbs.twimg.com/profile_background_images/533319157526167552/XLlRomnD.jpeg',\n",
       "  u'profile_background_image_url_https': u'https://pbs.twimg.com/profile_background_images/533319157526167552/XLlRomnD.jpeg',\n",
       "  u'profile_background_tile': True,\n",
       "  u'profile_banner_url': u'https://pbs.twimg.com/profile_banners/2890998036/1415988160',\n",
       "  u'profile_image_url': u'http://pbs.twimg.com/profile_images/533317799288918016/vQgBPLcp_normal.png',\n",
       "  u'profile_image_url_https': u'https://pbs.twimg.com/profile_images/533317799288918016/vQgBPLcp_normal.png',\n",
       "  u'profile_link_color': u'0084B4',\n",
       "  u'profile_sidebar_border_color': u'FFFFFF',\n",
       "  u'profile_sidebar_fill_color': u'DDEEF6',\n",
       "  u'profile_text_color': u'333333',\n",
       "  u'profile_use_background_image': True,\n",
       "  u'protected': False,\n",
       "  u'screen_name': u'aqij_urecosih',\n",
       "  u'statuses_count': 15181,\n",
       "  u'time_zone': None,\n",
       "  u'url': None,\n",
       "  u'utc_offset': None,\n",
       "  u'verified': False}}"
      ]
     },
     "execution_count": 240,
     "metadata": {},
     "output_type": "execute_result"
    }
   ],
   "source": [
    "#parse_tweet(en_tweets[0])\n",
    "print len(errors), len(en_tweets)\n",
    "#parse_tweet(errors[0])\n",
    "en_tweets[0]"
   ]
  },
  {
   "cell_type": "code",
   "execution_count": 235,
   "metadata": {
    "collapsed": false
   },
   "outputs": [
    {
     "data": {
      "text/plain": [
       "{'created_at': u'Sun Mar 27 16:11:26 +0000 2016',\n",
       " 'hashtags': {},\n",
       " 'lang': u'ru',\n",
       " 'links': {},\n",
       " 'meida_links': {},\n",
       " 'retweeted': False,\n",
       " 'text': u'\\u0444\\u0443\\u0445.'}"
      ]
     },
     "execution_count": 235,
     "metadata": {},
     "output_type": "execute_result"
    }
   ],
   "source": [
    "parse_tweet(en_tweets[1])"
   ]
  },
  {
   "cell_type": "code",
   "execution_count": 236,
   "metadata": {
    "collapsed": false
   },
   "outputs": [
    {
     "data": {
      "text/plain": [
       "{'created_at': u'Sun Mar 27 16:11:27 +0000 2016',\n",
       " 'hashtags': {},\n",
       " 'lang': u'ru',\n",
       " 'links': {},\n",
       " 'meida_links': {u'https://t.co/gvcGm3oiqu': u'http://twitter.com/elvina0407/status/714122672997855232/photo/1'},\n",
       " 'retweeted': False,\n",
       " 'text': u'\\u041e\\u0442\\u043a\\u0440\\u044b\\u0432\\u0430\\u0435\\u043c \\u0442\\u0430\\u043b\\u0430\\u043d\\u0442\\u044b \\u043d\\u0430 \\u0444\\u0435\\u0441\\u0442\\u0438\\u0432\\u0430\\u043b\\u0435 \\u0434\\u0440\\u0430\\u043c. \\u043a\\u043e\\u043b\\u043b\\u0435\\u043a\\u0442\\u0438\\u0432\\u043e\\u0432 \\u041f\\u041c\\u0420, \\u043f\\u043e\\u0441\\u0432\\u044f\\u0449\\u0451\\u043d\\u043d\\u043e\\u043c \\u0413\\u043e\\u0434\\u0443 \\u043a\\u0438\\u043d\\u043e. \\u0412\\u044b\\u0441\\u0442\\u0443\\u043f\\u043b\\u0435\\u043d\\u0438\\u0435 \\u043a\\u043e\\u043b-\\u0432\\u0430 \\u0420\\u043e\\u0436\\u0434\\u0435\\u0441\\u0442\\u0432\\u0435\\u043d\\u0441\\u043a\\u043e\\u0433\\u043e \\u0421\\u0414\\u041a '}"
      ]
     },
     "execution_count": 236,
     "metadata": {},
     "output_type": "execute_result"
    }
   ],
   "source": [
    "parse_tweet(en_tweets[2])"
   ]
  },
  {
   "cell_type": "code",
   "execution_count": 237,
   "metadata": {
    "collapsed": false
   },
   "outputs": [
    {
     "data": {
      "text/plain": [
       "{'created_at': u'Sun Mar 27 16:11:29 +0000 2016',\n",
       " 'hashtags': {u'\\u041e\\u0431\\u0430\\u043c\\u0430': [107, 113]},\n",
       " 'lang': u'ru',\n",
       " 'links': {},\n",
       " 'meida_links': {u'https://t.co/87z45OyhVH': u'http://twitter.com/vlad_zhukovskiy/status/714100713228513285/photo/1'},\n",
       " 'retweeted': True,\n",
       " 'text': u'\\u041f\\u0438\\u043f\\u043b \\u0445\\u0430\\u0432\\u0430\\u0435\\u0442: \\u0432 \\u0440\\u043e\\u0441\\u0442\\u0435 \\u0446\\u0435\\u043d \\u0438 \\u0430\\u043a\\u0446\\u0438\\u0437\\u043e\\u0432 \\u043d\\u0430 \\u0442\\u043e\\u043f\\u043b\\u0438\\u0432\\u043e \\u0438 \\u0442\\u0430\\u0440\\u0438\\u0444\\u043e\\u0432 \\u0416\\u041a\\u0425, \\u0441\\u0431\\u043e\\u0440\\u0430\\u0445 \\u0437\\u0430 \\u043a\\u0430\\u043f\\u0440\\u0435\\u043c\\u043e\\u043d\\u0442 \\u0438 \\u043f\\u0430\\u0434\\u0435\\u043d\\u0438\\u0438 \\u0437\\u0430\\u0440\\u043f\\u043b\\u0430\\u0442 \\u0432\\u0438\\u043d\\u043e\\u0432\\u0430\\u0442 #\\u041e\\u0431\\u0430\\u043c\\u0430 '}"
      ]
     },
     "execution_count": 237,
     "metadata": {},
     "output_type": "execute_result"
    }
   ],
   "source": [
    "parse_tweet(en_tweets[3])"
   ]
  },
  {
   "cell_type": "code",
   "execution_count": 238,
   "metadata": {
    "collapsed": false
   },
   "outputs": [
    {
     "data": {
      "text/plain": [
       "{'created_at': u'Sun Mar 27 16:17:37 +0000 2016',\n",
       " 'hashtags': {},\n",
       " 'lang': u'ru',\n",
       " 'links': {},\n",
       " 'meida_links': {},\n",
       " 'retweeted': False,\n",
       " 'text': u'\\u043a\\u0430\\u043a \\u043f\\u0435\\u0440\\u0435\\u0441\\u043f\\u0430\\u0442\\u044c \\u0441\\u043e \\u0432\\u0441\\u0435\\u043c \\u043c\\u0438\\u0440\\u043e\\u043c?'}"
      ]
     },
     "execution_count": 238,
     "metadata": {},
     "output_type": "execute_result"
    }
   ],
   "source": [
    "parse_tweet(en_tweets[4])"
   ]
  },
  {
   "cell_type": "code",
   "execution_count": 239,
   "metadata": {
    "collapsed": false
   },
   "outputs": [
    {
     "data": {
      "text/plain": [
       "{'created_at': u'Sun Mar 27 16:17:38 +0000 2016',\n",
       " 'hashtags': {},\n",
       " 'lang': u'ru',\n",
       " 'links': {},\n",
       " 'meida_links': {},\n",
       " 'retweeted': True,\n",
       " 'text': u'\\u041c\\u043d\\u0435 \\u0440\\u0430\\u043d\\u043e \\u0437\\u0430\\u0432\\u043e\\u0434\\u0438\\u0442\\u044c \\u0434\\u0435\\u0442\\u0435\\u0439. \\u042f \\u043c\\u043e\\u0440\\u0430\\u043b\\u044c\\u043d\\u043e \\u043d\\u0435 \\u0433\\u043e\\u0442\\u043e\\u0432 \\u043f\\u043e\\u043a\\u0443\\u043f\\u0430\\u0442\\u044c \\u043a\\u0438\\u043d\\u0434\\u0435\\u0440-\\u0441\\u044e\\u0440\\u043f\\u0440\\u0438\\u0437 \\u0438 \\u043e\\u0442\\u0434\\u0430\\u0432\\u0430\\u0442\\u044c \\u0435\\u0433\\u043e \\u043a\\u043e\\u043c\\u0443-\\u0442\\u043e.'}"
      ]
     },
     "execution_count": 239,
     "metadata": {},
     "output_type": "execute_result"
    }
   ],
   "source": [
    "parse_tweet(en_tweets[5])"
   ]
  },
  {
   "cell_type": "code",
   "execution_count": 6,
   "metadata": {
    "collapsed": false
   },
   "outputs": [],
   "source": [
    "import feedparser\n",
    "\n",
    "from twnews_consumer import defaults\n",
    "feeds = defaults.RSS_FEEDS\n",
    "feed = feedparser.parse(feeds['gazeta']['rss_url'])"
   ]
  },
  {
   "cell_type": "code",
   "execution_count": 7,
   "metadata": {
    "collapsed": false
   },
   "outputs": [
    {
     "data": {
      "text/plain": [
       "{'bozo': 0,\n",
       " 'encoding': u'windows-1251',\n",
       " 'entries': [{'author': u'\\u0414\\u043c\\u0438\\u0442\\u0440\\u0438\\u0439 \\u041a\\u0438\\u0440\\u0438\\u043b\\u043b\\u043e\\u0432 (\\u041c\\u0430\\u0440\\u0438\\u0443\\u043f\\u043e\\u043b\\u044c)',\n",
       "   'author_detail': {'name': u'\\u0414\\u043c\\u0438\\u0442\\u0440\\u0438\\u0439 \\u041a\\u0438\\u0440\\u0438\\u043b\\u043b\\u043e\\u0432 (\\u041c\\u0430\\u0440\\u0438\\u0443\\u043f\\u043e\\u043b\\u044c)'},\n",
       "   'authors': [{}],\n",
       "   'guidislink': False,\n",
       "   'id': u'http://www.gazeta.ru/boeing/politics/2015/07/17_a_7644137.shtml',\n",
       "   'link': u'http://www.gazeta.ru/boeing/politics/2015/07/17_a_7644137.shtml',\n",
       "   'links': [{'href': u'http://www.gazeta.ru/boeing/politics/2015/07/17_a_7644137.shtml',\n",
       "     'rel': u'alternate',\n",
       "     'type': u'text/html'},\n",
       "    {'href': u'http://img.gazeta.ru/files3/809/7644809/mediaPic-pic60-60x60-42517.jpg',\n",
       "     'rel': u'enclosure',\n",
       "     'type': u'image/jpeg'}],\n",
       "   'published': u'Sat, 18 Jul 2015 19:46:09 +0300',\n",
       "   'published_parsed': time.struct_time(tm_year=2015, tm_mon=7, tm_mday=18, tm_hour=16, tm_min=46, tm_sec=9, tm_wday=5, tm_yday=199, tm_isdst=0),\n",
       "   'summary': u'\\u042d\\u043a\\u0441-\\u0433\\u0443\\u0431\\u0435\\u0440\\u043d\\u0430\\u0442\\u043e\\u0440 \\u0414\\u043e\\u043d\\u0435\\u0446\\u043a\\u043e\\u0439 \\u043e\\u0431\\u043b\\u0430\\u0441\\u0442\\u0438 \\u0421\\u0435\\u0440\\u0433\\u0435\\u0439 \\u0422\\u0430\\u0440\\u0443\\u0442\\u0430 \\u0440\\u0430\\u0441\\u0441\\u043a\\u0430\\u0437\\u044b\\u0432\\u0430\\u0435\\u0442 \\u043e \\u0441\\u0432\\u043e\\u0435\\u043c \\u0432\\u0438\\u0434\\u0435\\u043d\\u0438\\u0438 \\u0438\\u0441\\u0442\\u043e\\u0440\\u0438\\u0438 \\u0441\\u043e \\u0441\\u0431\\u0438\\u0442\\u044b\\u043c Boeing. \\u041a\\u0430\\u043a\\u043e\\u0432\\u044b \\u0431\\u044b\\u043b\\u0438 \\u043f\\u0435\\u0440\\u0432\\u044b\\u0435 \\u0448\\u0430\\u0433\\u0438 \\u0443\\u043a\\u0440\\u0430\\u0438\\u043d\\u0441\\u043a\\u043e\\u0439 \\u0430\\u0434\\u043c\\u0438\\u043d\\u0438\\u0441\\u0442\\u0440\\u0430\\u0446\\u0438\\u0438 \\u043f\\u043e\\u0441\\u043b\\u0435 \\u043f\\u0430\\u0434\\u0435\\u043d\\u0438\\u044f \\u0441\\u0430\\u043c\\u043e\\u043b\\u0435\\u0442\\u0430, \\u043a\\u0430\\u043a \\u043d\\u0430\\u0445\\u043e\\u0434\\u0438\\u043b\\u0438 \\u0442\\u0435\\u043b\\u0430 \\u043d\\u0430 \\u043c\\u0435\\u0441\\u0442\\u0435 \\u043a\\u0440\\u0443\\u0448\\u0435\\u043d\\u0438\\u044f \\u0438 \\u043a\\u0442\\u043e, \\u043d\\u0430 \\u0432\\u0437\\u0433\\u043b\\u044f\\u0434 \\u0422\\u0430\\u0440\\u0443\\u0442\\u044b, \\u0432\\u0438\\u043d\\u043e\\u0432\\u0430\\u0442 \\u0432 \\u0442\\u0440\\u0430\\u0433\\u0435\\u0434\\u0438\\u0438 -- \\u0447\\u0438\\u0442\\u0430\\u0439\\u0442\\u0435 \\u0432 \\u0438\\u043d\\u0442\\u0435\\u0440\\u0432\\u044c\\u044e \\u0431\\u044b\\u0432\\u0448\\u0435\\u0433\\u043e \\u0433\\u0443\\u0431\\u0435\\u0440\\u043d\\u0430\\u0442\\u043e\\u0440\\u0430 \"\\u0413\\u0430\\u0437\\u0435\\u0442\\u0435.Ru\".',\n",
       "   'summary_detail': {'base': u'http://www.gazeta.ru/export/rss/index.xml',\n",
       "    'language': None,\n",
       "    'type': u'text/html',\n",
       "    'value': u'\\u042d\\u043a\\u0441-\\u0433\\u0443\\u0431\\u0435\\u0440\\u043d\\u0430\\u0442\\u043e\\u0440 \\u0414\\u043e\\u043d\\u0435\\u0446\\u043a\\u043e\\u0439 \\u043e\\u0431\\u043b\\u0430\\u0441\\u0442\\u0438 \\u0421\\u0435\\u0440\\u0433\\u0435\\u0439 \\u0422\\u0430\\u0440\\u0443\\u0442\\u0430 \\u0440\\u0430\\u0441\\u0441\\u043a\\u0430\\u0437\\u044b\\u0432\\u0430\\u0435\\u0442 \\u043e \\u0441\\u0432\\u043e\\u0435\\u043c \\u0432\\u0438\\u0434\\u0435\\u043d\\u0438\\u0438 \\u0438\\u0441\\u0442\\u043e\\u0440\\u0438\\u0438 \\u0441\\u043e \\u0441\\u0431\\u0438\\u0442\\u044b\\u043c Boeing. \\u041a\\u0430\\u043a\\u043e\\u0432\\u044b \\u0431\\u044b\\u043b\\u0438 \\u043f\\u0435\\u0440\\u0432\\u044b\\u0435 \\u0448\\u0430\\u0433\\u0438 \\u0443\\u043a\\u0440\\u0430\\u0438\\u043d\\u0441\\u043a\\u043e\\u0439 \\u0430\\u0434\\u043c\\u0438\\u043d\\u0438\\u0441\\u0442\\u0440\\u0430\\u0446\\u0438\\u0438 \\u043f\\u043e\\u0441\\u043b\\u0435 \\u043f\\u0430\\u0434\\u0435\\u043d\\u0438\\u044f \\u0441\\u0430\\u043c\\u043e\\u043b\\u0435\\u0442\\u0430, \\u043a\\u0430\\u043a \\u043d\\u0430\\u0445\\u043e\\u0434\\u0438\\u043b\\u0438 \\u0442\\u0435\\u043b\\u0430 \\u043d\\u0430 \\u043c\\u0435\\u0441\\u0442\\u0435 \\u043a\\u0440\\u0443\\u0448\\u0435\\u043d\\u0438\\u044f \\u0438 \\u043a\\u0442\\u043e, \\u043d\\u0430 \\u0432\\u0437\\u0433\\u043b\\u044f\\u0434 \\u0422\\u0430\\u0440\\u0443\\u0442\\u044b, \\u0432\\u0438\\u043d\\u043e\\u0432\\u0430\\u0442 \\u0432 \\u0442\\u0440\\u0430\\u0433\\u0435\\u0434\\u0438\\u0438 -- \\u0447\\u0438\\u0442\\u0430\\u0439\\u0442\\u0435 \\u0432 \\u0438\\u043d\\u0442\\u0435\\u0440\\u0432\\u044c\\u044e \\u0431\\u044b\\u0432\\u0448\\u0435\\u0433\\u043e \\u0433\\u0443\\u0431\\u0435\\u0440\\u043d\\u0430\\u0442\\u043e\\u0440\\u0430 \"\\u0413\\u0430\\u0437\\u0435\\u0442\\u0435.Ru\".'},\n",
       "   'title': u'\"\\u041d\\u0438\\u043a\\u0442\\u043e \\u0442\\u0430\\u043a\\u0443\\u044e \\u0442\\u0440\\u0430\\u0433\\u0435\\u0434\\u0438\\u044e \\u043d\\u0435\\xa0\\u043f\\u0440\\u043e\\u0441\\u0442\\u0438\\u0442\"',\n",
       "   'title_detail': {'base': u'http://www.gazeta.ru/export/rss/index.xml',\n",
       "    'language': None,\n",
       "    'type': u'text/plain',\n",
       "    'value': u'\"\\u041d\\u0438\\u043a\\u0442\\u043e \\u0442\\u0430\\u043a\\u0443\\u044e \\u0442\\u0440\\u0430\\u0433\\u0435\\u0434\\u0438\\u044e \\u043d\\u0435\\xa0\\u043f\\u0440\\u043e\\u0441\\u0442\\u0438\\u0442\"'}},\n",
       "  {'author': u'\\u0412\\u043b\\u0430\\u0434\\u0438\\u043c\\u0438\\u0440 \\u0414\\u0435\\u0440\\u0433\\u0430\\u0447\\u0435\\u0432',\n",
       "   'author_detail': {'name': u'\\u0412\\u043b\\u0430\\u0434\\u0438\\u043c\\u0438\\u0440 \\u0414\\u0435\\u0440\\u0433\\u0430\\u0447\\u0435\\u0432'},\n",
       "   'authors': [{}],\n",
       "   'guidislink': False,\n",
       "   'id': u'http://www.gazeta.ru/boeing/politics/2015/07/17_a_7643993.shtml',\n",
       "   'link': u'http://www.gazeta.ru/boeing/politics/2015/07/17_a_7643993.shtml',\n",
       "   'links': [{'href': u'http://www.gazeta.ru/boeing/politics/2015/07/17_a_7643993.shtml',\n",
       "     'rel': u'alternate',\n",
       "     'type': u'text/html'},\n",
       "    {'href': u'http://img.gazeta.ru/files3/13/7644013/boroday-pic60-60x60-19582.jpg',\n",
       "     'rel': u'enclosure',\n",
       "     'type': u'image/jpeg'}],\n",
       "   'published': u'Sat, 18 Jul 2015 11:03:56 +0300',\n",
       "   'published_parsed': time.struct_time(tm_year=2015, tm_mon=7, tm_mday=18, tm_hour=8, tm_min=3, tm_sec=56, tm_wday=5, tm_yday=199, tm_isdst=0),\n",
       "   'summary': u'\\u0411\\u044b\\u0432\\u0448\\u0438\\u0439 \\u0433\\u043b\\u0430\\u0432\\u0430 \\u0441\\u0430\\u043c\\u043e\\u043f\\u0440\\u043e\\u0432\\u043e\\u0437\\u0433\\u043b\\u0430\\u0448\\u0435\\u043d\\u043d\\u043e\\u0439 \\u0414\\u043e\\u043d\\u0435\\u0446\\u043a\\u043e\\u0439 \\u0440\\u0435\\u0441\\u043f\\u0443\\u0431\\u043b\\u0438\\u043a\\u0438 \\u0410\\u043b\\u0435\\u043a\\u0441\\u0430\\u043d\\u0434\\u0440 \\u0411\\u043e\\u0440\\u043e\\u0434\\u0430\\u0439 \\u043e\\u0442\\u043d\\u043e\\u0441\\u0438\\u0442\\u0441\\u044f \\u0441 \"\\u0447\\u0443\\u0432\\u0441\\u0442\\u0432\\u043e\\u043c \\u0433\\u043b\\u0443\\u0431\\u043e\\u043a\\u043e\\u0433\\u043e \\u0440\\u0430\\u0432\\u043d\\u043e\\u0434\\u0443\\u0448\\u0438\\u044f\" \\u043a \\u0440\\u0430\\u0441\\u0441\\u043b\\u0435\\u0434\\u043e\\u0432\\u0430\\u043d\\u0438\\u044e \\u043f\\u0440\\u0438\\u0447\\u0438\\u043d \\u043a\\u0430\\u0442\\u0430\\u0441\\u0442\\u0440\\u043e\\u0444\\u044b \\u0440\\u0435\\u0439\\u0441\\u0430 Boeing 777 \\u0432 \\u0414\\u043e\\u043d\\u0431\\u0430\\u0441\\u0441\\u0435. \\u0412 \\u0438\\u043d\\u0442\\u0435\\u0440\\u0432\\u044c\\u044e \"\\u0413\\u0430\\u0437\\u0435\\u0442\\u0435.Ru\" \\u043e\\u043d \\u0443\\u0432\\u0435\\u0440\\u044f\\u0435\\u0442, \\u0447\\u0442\\u043e \\u0423\\u043a\\u0440\\u0430\\u0438\\u043d\\u0430 \\u0434\\u0435\\u043b\\u0430\\u043b\\u0430 \\u0432\\u0441\\u0435 \\u0434\\u043b\\u044f \\u043f\\u0440\\u0435\\u043f\\u044f\\u0442\\u0441\\u0442\\u0432\\u043e\\u0432\\u0430\\u043d\\u0438\\u044f \\u0440\\u0430\\u0441\\u0441\\u043b\\u0435\\u0434\\u043e\\u0432\\u0430\\u043d\\u0438\\u044e \\u0442\\u0440\\u0430\\u0433\\u0435\\u0434\\u0438\\u0438, \\u0430 \\u0443 \\u043e\\u043f\\u043e\\u043b\\u0447\\u0435\\u043d\\u0446\\u0435\\u0432 \\u043d\\u0435 \\u0431\\u044b\\u043b\\u043e \\u043e\\u0440\\u0443\\u0436\\u0438\\u044f \\u0434\\u043b\\u044f \\u0443\\u043d\\u0438\\u0447\\u0442\\u043e\\u0436\\u0435\\u043d\\u0438\\u044f \\u043b\\u0430\\u0439\\u043d\\u0435\\u0440\\u0430. \\u041f\\u0440\\u0438 \\u044d\\u0442\\u043e\\u043c \\u0431\\u044b\\u0432\\u0448\\u0438\\u0439 \\u043f\\u0440\\u0435\\u043c\\u044c\\u0435\\u0440 \\u043f\\u043e\\u0434\\u0442\\u0432\\u0435\\u0440\\u0436\\u0434\\u0430\\u0435\\u0442: \\u043a\\u043e\\u043d\\u043a\\u0440\\u0435\\u0442\\u043d\\u044b\\u0435 \\u043e\\u043f\\u043e\\u043b\\u0447\\u0435\\u043d\\u0446\\u044b, \\u043a\\u043e\\u0442\\u043e\\u0440\\u044b\\u0445 \\u0443\\u043a\\u0440\\u0430\\u0438\\u043d\\u0441\\u043a\\u0430\\u044f \\u0441\\u0442\\u043e\\u0440\\u043e\\u043d\\u0430 \\u0441\\u0432\\u044f\\u0437\\u044b\\u0432\\u0430\\u0435\\u0442 \\u0441 \\u0442\\u0440\\u0430\\u043d\\u0441\\u043f\\u043e\\u0440\\u0442\\u0438\\u0440\\u043e\\u0432\\u043a\\u043e\\u0439 \"\\u0411\\u0443\\u043a\\u0430\", \\u0431\\u044b\\u043b\\u0438 \\u0432 \\u0442\\u043e\\u0442 \\u043c\\u043e\\u043c\\u0435\\u043d\\u0442 \\u0432 \\u0437\\u043e\\u043d\\u0435 \\u043a\\u043e\\u043d\\u0444\\u043b\\u0438\\u043a\\u0442\\u0430.',\n",
       "   'summary_detail': {'base': u'http://www.gazeta.ru/export/rss/index.xml',\n",
       "    'language': None,\n",
       "    'type': u'text/html',\n",
       "    'value': u'\\u0411\\u044b\\u0432\\u0448\\u0438\\u0439 \\u0433\\u043b\\u0430\\u0432\\u0430 \\u0441\\u0430\\u043c\\u043e\\u043f\\u0440\\u043e\\u0432\\u043e\\u0437\\u0433\\u043b\\u0430\\u0448\\u0435\\u043d\\u043d\\u043e\\u0439 \\u0414\\u043e\\u043d\\u0435\\u0446\\u043a\\u043e\\u0439 \\u0440\\u0435\\u0441\\u043f\\u0443\\u0431\\u043b\\u0438\\u043a\\u0438 \\u0410\\u043b\\u0435\\u043a\\u0441\\u0430\\u043d\\u0434\\u0440 \\u0411\\u043e\\u0440\\u043e\\u0434\\u0430\\u0439 \\u043e\\u0442\\u043d\\u043e\\u0441\\u0438\\u0442\\u0441\\u044f \\u0441 \"\\u0447\\u0443\\u0432\\u0441\\u0442\\u0432\\u043e\\u043c \\u0433\\u043b\\u0443\\u0431\\u043e\\u043a\\u043e\\u0433\\u043e \\u0440\\u0430\\u0432\\u043d\\u043e\\u0434\\u0443\\u0448\\u0438\\u044f\" \\u043a \\u0440\\u0430\\u0441\\u0441\\u043b\\u0435\\u0434\\u043e\\u0432\\u0430\\u043d\\u0438\\u044e \\u043f\\u0440\\u0438\\u0447\\u0438\\u043d \\u043a\\u0430\\u0442\\u0430\\u0441\\u0442\\u0440\\u043e\\u0444\\u044b \\u0440\\u0435\\u0439\\u0441\\u0430 Boeing 777 \\u0432 \\u0414\\u043e\\u043d\\u0431\\u0430\\u0441\\u0441\\u0435. \\u0412 \\u0438\\u043d\\u0442\\u0435\\u0440\\u0432\\u044c\\u044e \"\\u0413\\u0430\\u0437\\u0435\\u0442\\u0435.Ru\" \\u043e\\u043d \\u0443\\u0432\\u0435\\u0440\\u044f\\u0435\\u0442, \\u0447\\u0442\\u043e \\u0423\\u043a\\u0440\\u0430\\u0438\\u043d\\u0430 \\u0434\\u0435\\u043b\\u0430\\u043b\\u0430 \\u0432\\u0441\\u0435 \\u0434\\u043b\\u044f \\u043f\\u0440\\u0435\\u043f\\u044f\\u0442\\u0441\\u0442\\u0432\\u043e\\u0432\\u0430\\u043d\\u0438\\u044f \\u0440\\u0430\\u0441\\u0441\\u043b\\u0435\\u0434\\u043e\\u0432\\u0430\\u043d\\u0438\\u044e \\u0442\\u0440\\u0430\\u0433\\u0435\\u0434\\u0438\\u0438, \\u0430 \\u0443 \\u043e\\u043f\\u043e\\u043b\\u0447\\u0435\\u043d\\u0446\\u0435\\u0432 \\u043d\\u0435 \\u0431\\u044b\\u043b\\u043e \\u043e\\u0440\\u0443\\u0436\\u0438\\u044f \\u0434\\u043b\\u044f \\u0443\\u043d\\u0438\\u0447\\u0442\\u043e\\u0436\\u0435\\u043d\\u0438\\u044f \\u043b\\u0430\\u0439\\u043d\\u0435\\u0440\\u0430. \\u041f\\u0440\\u0438 \\u044d\\u0442\\u043e\\u043c \\u0431\\u044b\\u0432\\u0448\\u0438\\u0439 \\u043f\\u0440\\u0435\\u043c\\u044c\\u0435\\u0440 \\u043f\\u043e\\u0434\\u0442\\u0432\\u0435\\u0440\\u0436\\u0434\\u0430\\u0435\\u0442: \\u043a\\u043e\\u043d\\u043a\\u0440\\u0435\\u0442\\u043d\\u044b\\u0435 \\u043e\\u043f\\u043e\\u043b\\u0447\\u0435\\u043d\\u0446\\u044b, \\u043a\\u043e\\u0442\\u043e\\u0440\\u044b\\u0445 \\u0443\\u043a\\u0440\\u0430\\u0438\\u043d\\u0441\\u043a\\u0430\\u044f \\u0441\\u0442\\u043e\\u0440\\u043e\\u043d\\u0430 \\u0441\\u0432\\u044f\\u0437\\u044b\\u0432\\u0430\\u0435\\u0442 \\u0441 \\u0442\\u0440\\u0430\\u043d\\u0441\\u043f\\u043e\\u0440\\u0442\\u0438\\u0440\\u043e\\u0432\\u043a\\u043e\\u0439 \"\\u0411\\u0443\\u043a\\u0430\", \\u0431\\u044b\\u043b\\u0438 \\u0432 \\u0442\\u043e\\u0442 \\u043c\\u043e\\u043c\\u0435\\u043d\\u0442 \\u0432 \\u0437\\u043e\\u043d\\u0435 \\u043a\\u043e\\u043d\\u0444\\u043b\\u0438\\u043a\\u0442\\u0430.'},\n",
       "   'title': u'\"\\u0412 \\u0438\\u0441\\u0442\\u043e\\u0440\\u0438\\u0438 \\u0441 Boeing \\u043d\\u0435 \\u0447\\u0443\\u0432\\u0441\\u0442\\u0432\\u0443\\u044e \\u043d\\u0438 \\u043c\\u0430\\u043b\\u0435\\u0439\\u0448\\u0435\\u0439 \\u0432\\u0438\\u043d\\u044b\"',\n",
       "   'title_detail': {'base': u'http://www.gazeta.ru/export/rss/index.xml',\n",
       "    'language': None,\n",
       "    'type': u'text/plain',\n",
       "    'value': u'\"\\u0412 \\u0438\\u0441\\u0442\\u043e\\u0440\\u0438\\u0438 \\u0441 Boeing \\u043d\\u0435 \\u0447\\u0443\\u0432\\u0441\\u0442\\u0432\\u0443\\u044e \\u043d\\u0438 \\u043c\\u0430\\u043b\\u0435\\u0439\\u0448\\u0435\\u0439 \\u0432\\u0438\\u043d\\u044b\"'}},\n",
       "  {'author': u'\\u0414\\u043c\\u0438\\u0442\\u0440\\u0438\\u0439 \\u0415\\u0432\\u0441\\u0442\\u0438\\u0444\\u0435\\u0435\\u0432, \\u0412\\u043b\\u0430\\u0434\\u0438\\u043c\\u0438\\u0440 \\u0412\\u0430\\u0449\\u0435\\u043d\\u043a\\u043e, \\u0413\\u0435\\u0440\\u043c\\u0430\\u043d \\u041f\\u0435\\u0442\\u0435\\u043b\\u0438\\u043d, \\u0410\\u0440\\u0442\\u0443\\u0440 \\u0413\\u0440\\u043e\\u043c\\u043e\\u0432, \\u0410\\u043d\\u0430\\u0441\\u0442\\u0430\\u0441\\u0438\\u044f \\u0410\\u043b\\u0435\\u043a\\u0441\\u0435\\u0435\\u0432\\u0430',\n",
       "   'author_detail': {'name': u'\\u0414\\u043c\\u0438\\u0442\\u0440\\u0438\\u0439 \\u0415\\u0432\\u0441\\u0442\\u0438\\u0444\\u0435\\u0435\\u0432, \\u0412\\u043b\\u0430\\u0434\\u0438\\u043c\\u0438\\u0440 \\u0412\\u0430\\u0449\\u0435\\u043d\\u043a\\u043e, \\u0413\\u0435\\u0440\\u043c\\u0430\\u043d \\u041f\\u0435\\u0442\\u0435\\u043b\\u0438\\u043d, \\u0410\\u0440\\u0442\\u0443\\u0440 \\u0413\\u0440\\u043e\\u043c\\u043e\\u0432, \\u0410\\u043d\\u0430\\u0441\\u0442\\u0430\\u0441\\u0438\\u044f \\u0410\\u043b\\u0435\\u043a\\u0441\\u0435\\u0435\\u0432\\u0430'},\n",
       "   'authors': [{}],\n",
       "   'guidislink': False,\n",
       "   'id': u'http://www.gazeta.ru/boeing/social/2015/07/17/7643357.shtml',\n",
       "   'link': u'http://www.gazeta.ru/boeing/social/2015/07/17/7643357.shtml',\n",
       "   'links': [{'href': u'http://www.gazeta.ru/boeing/social/2015/07/17/7643357.shtml',\n",
       "     'rel': u'alternate',\n",
       "     'type': u'text/html'},\n",
       "    {'href': u'http://img.gazeta.ru/files3/361/7643361/COVERMEDIAPIC-pic60-60x60-34156.jpg',\n",
       "     'rel': u'enclosure',\n",
       "     'type': u'image/jpeg'}],\n",
       "   'published': u'Fri, 17 Jul 2015 15:45:29 +0300',\n",
       "   'published_parsed': time.struct_time(tm_year=2015, tm_mon=7, tm_mday=17, tm_hour=12, tm_min=45, tm_sec=29, tm_wday=4, tm_yday=198, tm_isdst=0),\n",
       "   'summary': u'\\u0413\\u043e\\u0434 \\u043f\\u0440\\u043e\\u0448\\u0435\\u043b \\u0441 \\u043c\\u043e\\u043c\\u0435\\u043d\\u0442\\u0430 \\u043a\\u0440\\u0443\\u0448\\u0435\\u043d\\u0438\\u044f \\u043d\\u0430 \\u0423\\u043a\\u0440\\u0430\\u0438\\u043d\\u0435 \\u0441\\u0430\\u043c\\u043e\\u043b\\u0435\\u0442\\u0430 \"\\u041c\\u0430\\u043b\\u0430\\u0439\\u0437\\u0438\\u0439\\u0441\\u043a\\u0438\\u0445 \\u0430\\u0432\\u0438\\u0430\\u043b\\u0438\\u043d\\u0438\\u0439\". Boeing 777 \\u0431\\u044b\\u043b, \\u043f\\u0440\\u0435\\u0434\\u043f\\u043e\\u043b\\u043e\\u0436\\u0438\\u0442\\u0435\\u043b\\u044c\\u043d\\u043e, \\u0441\\u0431\\u0438\\u0442 \\u0440\\u0430\\u043a\\u0435\\u0442\\u043e\\u0439 \\u0438 \\u0440\\u0443\\u0445\\u043d\\u0443\\u043b \\u0432 \\u0414\\u043e\\u043d\\u0435\\u0446\\u043a\\u043e\\u0439 \\u043e\\u0431\\u043b\\u0430\\u0441\\u0442\\u0438 \\u0432 \\u0440\\u0430\\u0439\\u043e\\u043d\\u0435 \\u0441\\u0435\\u043b\\u0430 \\u0413\\u0440\\u0430\\u0431\\u043e\\u0432\\u043e. \\u041d\\u0430 \\u0431\\u043e\\u0440\\u0442\\u0443 \\u0440\\u0435\\u0439\\u0441\\u0430 \\u043d\\u0430\\u0445\\u043e\\u0434\\u0438\\u043b\\u0438\\u0441\\u044c 283 \\u043f\\u0430\\u0441\\u0441\\u0430\\u0436\\u0438\\u0440\\u0430 \\u0438 15 \\u0447\\u043b\\u0435\\u043d\\u043e\\u0432 \\u044d\\u043a\\u0438\\u043f\\u0430\\u0436\\u0430 -- \\u0433\\u0440\\u0430\\u0436\\u0434\\u0430\\u043d\\u0435 \\u0434\\u0435\\u0441\\u044f\\u0442\\u0438 \\u0441\\u0442\\u0440\\u0430\\u043d. \\u0421\\u0435\\u0439\\u0447\\u0430\\u0441, \\u0432\\u0441\\u043f\\u043e\\u043c\\u0438\\u043d\\u0430\\u044f \\u043e \\u0442\\u0440\\u0430\\u0433\\u0435\\u0434\\u0438\\u0438, \\u0440\\u043e\\u0434\\u0441\\u0442\\u0432\\u0435\\u043d\\u043d\\u0438\\u043a\\u0438 \\u043f\\u043e\\u0433\\u0438\\u0431\\u0448\\u0438\\u0445 \\u0431\\u043b\\u0430\\u0433\\u043e\\u0434\\u0430\\u0440\\u044f\\u0442 \\u0432\\u0441\\u0435\\u0445, \\u043a\\u0442\\u043e \\u0438\\u0445 \\u043f\\u043e\\u0434\\u0434\\u0435\\u0440\\u0436\\u0430\\u043b. \\u041e\\u043d\\u0438 \\u043d\\u0435 \\u0442\\u0440\\u0430\\u0442\\u044f\\u0442 \\u0441\\u0438\\u043b\\u044b \\u043d\\u0430 \\u043d\\u0435\\u043d\\u0430\\u0432\\u0438\\u0441\\u0442\\u044c, \\u0430 \\u0441 \\u043b\\u044e\\u0431\\u043e\\u0432\\u044c\\u044e \\u0432\\u0441\\u043f\\u043e\\u043c\\u0438\\u043d\\u0430\\u044e\\u0442 \\u043f\\u043e\\u0442\\u0435\\u0440\\u044f\\u043d\\u043d\\u044b\\u0445 \\u0440\\u043e\\u0434\\u043d\\u044b\\u0445. \\u041d\\u0435 \\u043c\\u043e\\u0433\\u0443\\u0442 \\u0437\\u0430\\u0431\\u044b\\u0442\\u044c \\u043e \\u043f\\u0440\\u043e\\u0438\\u0437\\u043e\\u0448\\u0435\\u0434\\u0448\\u0435\\u043c \\u0438 \\u0436\\u0438\\u0442\\u0435\\u043b\\u0438 \\u0441\\u0435\\u043b\\u0430 \\u0413\\u0440\\u0430\\u0431\\u043e\\u0432\\u043e, \\u0431\\u043b\\u0438\\u0437 \\u043a\\u043e\\u0442\\u043e\\u0440\\u043e\\u0433\\u043e \\u0443\\u043f\\u0430\\u043b \\u0441\\u0430\\u043c\\u043e\\u043b\\u0435\\u0442.',\n",
       "   'summary_detail': {'base': u'http://www.gazeta.ru/export/rss/index.xml',\n",
       "    'language': None,\n",
       "    'type': u'text/html',\n",
       "    'value': u'\\u0413\\u043e\\u0434 \\u043f\\u0440\\u043e\\u0448\\u0435\\u043b \\u0441 \\u043c\\u043e\\u043c\\u0435\\u043d\\u0442\\u0430 \\u043a\\u0440\\u0443\\u0448\\u0435\\u043d\\u0438\\u044f \\u043d\\u0430 \\u0423\\u043a\\u0440\\u0430\\u0438\\u043d\\u0435 \\u0441\\u0430\\u043c\\u043e\\u043b\\u0435\\u0442\\u0430 \"\\u041c\\u0430\\u043b\\u0430\\u0439\\u0437\\u0438\\u0439\\u0441\\u043a\\u0438\\u0445 \\u0430\\u0432\\u0438\\u0430\\u043b\\u0438\\u043d\\u0438\\u0439\". Boeing 777 \\u0431\\u044b\\u043b, \\u043f\\u0440\\u0435\\u0434\\u043f\\u043e\\u043b\\u043e\\u0436\\u0438\\u0442\\u0435\\u043b\\u044c\\u043d\\u043e, \\u0441\\u0431\\u0438\\u0442 \\u0440\\u0430\\u043a\\u0435\\u0442\\u043e\\u0439 \\u0438 \\u0440\\u0443\\u0445\\u043d\\u0443\\u043b \\u0432 \\u0414\\u043e\\u043d\\u0435\\u0446\\u043a\\u043e\\u0439 \\u043e\\u0431\\u043b\\u0430\\u0441\\u0442\\u0438 \\u0432 \\u0440\\u0430\\u0439\\u043e\\u043d\\u0435 \\u0441\\u0435\\u043b\\u0430 \\u0413\\u0440\\u0430\\u0431\\u043e\\u0432\\u043e. \\u041d\\u0430 \\u0431\\u043e\\u0440\\u0442\\u0443 \\u0440\\u0435\\u0439\\u0441\\u0430 \\u043d\\u0430\\u0445\\u043e\\u0434\\u0438\\u043b\\u0438\\u0441\\u044c 283 \\u043f\\u0430\\u0441\\u0441\\u0430\\u0436\\u0438\\u0440\\u0430 \\u0438 15 \\u0447\\u043b\\u0435\\u043d\\u043e\\u0432 \\u044d\\u043a\\u0438\\u043f\\u0430\\u0436\\u0430 -- \\u0433\\u0440\\u0430\\u0436\\u0434\\u0430\\u043d\\u0435 \\u0434\\u0435\\u0441\\u044f\\u0442\\u0438 \\u0441\\u0442\\u0440\\u0430\\u043d. \\u0421\\u0435\\u0439\\u0447\\u0430\\u0441, \\u0432\\u0441\\u043f\\u043e\\u043c\\u0438\\u043d\\u0430\\u044f \\u043e \\u0442\\u0440\\u0430\\u0433\\u0435\\u0434\\u0438\\u0438, \\u0440\\u043e\\u0434\\u0441\\u0442\\u0432\\u0435\\u043d\\u043d\\u0438\\u043a\\u0438 \\u043f\\u043e\\u0433\\u0438\\u0431\\u0448\\u0438\\u0445 \\u0431\\u043b\\u0430\\u0433\\u043e\\u0434\\u0430\\u0440\\u044f\\u0442 \\u0432\\u0441\\u0435\\u0445, \\u043a\\u0442\\u043e \\u0438\\u0445 \\u043f\\u043e\\u0434\\u0434\\u0435\\u0440\\u0436\\u0430\\u043b. \\u041e\\u043d\\u0438 \\u043d\\u0435 \\u0442\\u0440\\u0430\\u0442\\u044f\\u0442 \\u0441\\u0438\\u043b\\u044b \\u043d\\u0430 \\u043d\\u0435\\u043d\\u0430\\u0432\\u0438\\u0441\\u0442\\u044c, \\u0430 \\u0441 \\u043b\\u044e\\u0431\\u043e\\u0432\\u044c\\u044e \\u0432\\u0441\\u043f\\u043e\\u043c\\u0438\\u043d\\u0430\\u044e\\u0442 \\u043f\\u043e\\u0442\\u0435\\u0440\\u044f\\u043d\\u043d\\u044b\\u0445 \\u0440\\u043e\\u0434\\u043d\\u044b\\u0445. \\u041d\\u0435 \\u043c\\u043e\\u0433\\u0443\\u0442 \\u0437\\u0430\\u0431\\u044b\\u0442\\u044c \\u043e \\u043f\\u0440\\u043e\\u0438\\u0437\\u043e\\u0448\\u0435\\u0434\\u0448\\u0435\\u043c \\u0438 \\u0436\\u0438\\u0442\\u0435\\u043b\\u0438 \\u0441\\u0435\\u043b\\u0430 \\u0413\\u0440\\u0430\\u0431\\u043e\\u0432\\u043e, \\u0431\\u043b\\u0438\\u0437 \\u043a\\u043e\\u0442\\u043e\\u0440\\u043e\\u0433\\u043e \\u0443\\u043f\\u0430\\u043b \\u0441\\u0430\\u043c\\u043e\\u043b\\u0435\\u0442.'},\n",
       "   'title': u'\"\\u042f \\u0443\\u0432\\u0438\\u0434\\u0435\\u043b \\u043d\\u043e\\u043c\\u0435\\u0440 \\u0440\\u0435\\u0439\\u0441\\u0430 \\u0438 \\u043f\\u043e\\u043d\\u044f\\u043b, \\u0447\\u0442\\u043e \\u0442\\u0430\\u043c \\u043c\\u0430\\u043c\\u0430 \\u0438 \\u043f\\u0430\\u043f\\u0430\"',\n",
       "   'title_detail': {'base': u'http://www.gazeta.ru/export/rss/index.xml',\n",
       "    'language': None,\n",
       "    'type': u'text/plain',\n",
       "    'value': u'\"\\u042f \\u0443\\u0432\\u0438\\u0434\\u0435\\u043b \\u043d\\u043e\\u043c\\u0435\\u0440 \\u0440\\u0435\\u0439\\u0441\\u0430 \\u0438 \\u043f\\u043e\\u043d\\u044f\\u043b, \\u0447\\u0442\\u043e \\u0442\\u0430\\u043c \\u043c\\u0430\\u043c\\u0430 \\u0438 \\u043f\\u0430\\u043f\\u0430\"'}},\n",
       "  {'author': u'\\u0414\\u043c\\u0438\\u0442\\u0440\\u0438\\u0439 \\u041a\\u0438\\u0440\\u0438\\u043b\\u043b\\u043e\\u0432 (\\u0413\\u0440\\u0430\\u0431\\u043e\\u0432\\u043e)',\n",
       "   'author_detail': {'name': u'\\u0414\\u043c\\u0438\\u0442\\u0440\\u0438\\u0439 \\u041a\\u0438\\u0440\\u0438\\u043b\\u043b\\u043e\\u0432 (\\u0413\\u0440\\u0430\\u0431\\u043e\\u0432\\u043e)'},\n",
       "   'authors': [{}],\n",
       "   'guidislink': False,\n",
       "   'id': u'http://www.gazeta.ru/boeing/social/7642597.shtml',\n",
       "   'link': u'http://www.gazeta.ru/boeing/social/7642597.shtml',\n",
       "   'links': [{'href': u'http://www.gazeta.ru/boeing/social/7642597.shtml',\n",
       "     'rel': u'alternate',\n",
       "     'type': u'text/html'},\n",
       "    {'href': u'http://img.gazeta.ru/files3/205/7643205/b04-pic60-60x60-1084.jpg',\n",
       "     'rel': u'enclosure',\n",
       "     'type': u'image/jpeg'}],\n",
       "   'published': u'Fri, 17 Jul 2015 10:12:51 +0300',\n",
       "   'published_parsed': time.struct_time(tm_year=2015, tm_mon=7, tm_mday=17, tm_hour=7, tm_min=12, tm_sec=51, tm_wday=4, tm_yday=198, tm_isdst=0),\n",
       "   'summary': u'\\u0420\\u043e\\u0432\\u043d\\u043e \\u0433\\u043e\\u0434 \\u043d\\u0430\\u0437\\u0430\\u0434 Boeing 777 \\u0430\\u0432\\u0438\\u0430\\u043a\\u043e\\u043c\\u043f\\u0430\\u043d\\u0438\\u0438 Malaysia Airlines, \\u0432\\u044b\\u043f\\u043e\\u043b\\u043d\\u044f\\u0432\\u0448\\u0438\\u0439 \\u043f\\u043b\\u0430\\u043d\\u043e\\u0432\\u044b\\u0439 \\u0440\\u0435\\u0439\\u0441 \\u0438\\u0437 \\u0410\\u043c\\u0441\\u0442\\u0435\\u0440\\u0434\\u0430\\u043c\\u0430 \\u0432 \\u041a\\u0443\\u0430\\u043b\\u0430-\\u041b\\u0443\\u043c\\u043f\\u0443\\u0440, \\u0431\\u044b\\u043b \\u0441\\u0431\\u0438\\u0442 \\u043d\\u0430 \\u0433\\u0440\\u0430\\u043d\\u0438\\u0446\\u0435 \\u0414\\u043e\\u043d\\u0435\\u0446\\u043a\\u043e\\u0439 \\u0438 \\u041b\\u0443\\u0433\\u0430\\u043d\\u0441\\u043a\\u043e\\u0439 \\u043e\\u0431\\u043b\\u0430\\u0441\\u0442\\u0435\\u0439. \\u041f\\u043e\\u0433\\u0438\\u0431\\u043b\\u0438 283 \\u043f\\u0430\\u0441\\u0441\\u0430\\u0436\\u0438\\u0440\\u0430 \\u0438 15 \\u0447\\u043b\\u0435\\u043d\\u043e\\u0432 \\u044d\\u043a\\u0438\\u043f\\u0430\\u0436\\u0430. \\u041a\\u043e\\u0440\\u0440\\u0435\\u0441\\u043f\\u043e\\u043d\\u0434\\u0435\\u043d\\u0442 \"\\u0413\\u0430\\u0437\\u0435\\u0442\\u044b.Ru\" \\u0441\\u043f\\u0443\\u0441\\u0442\\u044f \\u0433\\u043e\\u0434 \\u043f\\u043e\\u0431\\u044b\\u0432\\u0430\\u043b \\u043d\\u0430 \\u043c\\u0435\\u0441\\u0442\\u0435 \\u043a\\u0430\\u0442\\u0430\\u0441\\u0442\\u0440\\u043e\\u0444\\u044b \\u2014 \\u0432 \\u043d\\u0435\\u0431\\u043e\\u043b\\u044c\\u0448\\u043e\\u043c \\u0441\\u0435\\u043b\\u0435 \\u0413\\u0440\\u0430\\u0431\\u043e\\u0432\\u043e \\u0414\\u043e\\u043d\\u0435\\u0446\\u043a\\u043e\\u0439 \\u043e\\u0431\\u043b\\u0430\\u0441\\u0442\\u0438.',\n",
       "   'summary_detail': {'base': u'http://www.gazeta.ru/export/rss/index.xml',\n",
       "    'language': None,\n",
       "    'type': u'text/html',\n",
       "    'value': u'\\u0420\\u043e\\u0432\\u043d\\u043e \\u0433\\u043e\\u0434 \\u043d\\u0430\\u0437\\u0430\\u0434 Boeing 777 \\u0430\\u0432\\u0438\\u0430\\u043a\\u043e\\u043c\\u043f\\u0430\\u043d\\u0438\\u0438 Malaysia Airlines, \\u0432\\u044b\\u043f\\u043e\\u043b\\u043d\\u044f\\u0432\\u0448\\u0438\\u0439 \\u043f\\u043b\\u0430\\u043d\\u043e\\u0432\\u044b\\u0439 \\u0440\\u0435\\u0439\\u0441 \\u0438\\u0437 \\u0410\\u043c\\u0441\\u0442\\u0435\\u0440\\u0434\\u0430\\u043c\\u0430 \\u0432 \\u041a\\u0443\\u0430\\u043b\\u0430-\\u041b\\u0443\\u043c\\u043f\\u0443\\u0440, \\u0431\\u044b\\u043b \\u0441\\u0431\\u0438\\u0442 \\u043d\\u0430 \\u0433\\u0440\\u0430\\u043d\\u0438\\u0446\\u0435 \\u0414\\u043e\\u043d\\u0435\\u0446\\u043a\\u043e\\u0439 \\u0438 \\u041b\\u0443\\u0433\\u0430\\u043d\\u0441\\u043a\\u043e\\u0439 \\u043e\\u0431\\u043b\\u0430\\u0441\\u0442\\u0435\\u0439. \\u041f\\u043e\\u0433\\u0438\\u0431\\u043b\\u0438 283 \\u043f\\u0430\\u0441\\u0441\\u0430\\u0436\\u0438\\u0440\\u0430 \\u0438 15 \\u0447\\u043b\\u0435\\u043d\\u043e\\u0432 \\u044d\\u043a\\u0438\\u043f\\u0430\\u0436\\u0430. \\u041a\\u043e\\u0440\\u0440\\u0435\\u0441\\u043f\\u043e\\u043d\\u0434\\u0435\\u043d\\u0442 \"\\u0413\\u0430\\u0437\\u0435\\u0442\\u044b.Ru\" \\u0441\\u043f\\u0443\\u0441\\u0442\\u044f \\u0433\\u043e\\u0434 \\u043f\\u043e\\u0431\\u044b\\u0432\\u0430\\u043b \\u043d\\u0430 \\u043c\\u0435\\u0441\\u0442\\u0435 \\u043a\\u0430\\u0442\\u0430\\u0441\\u0442\\u0440\\u043e\\u0444\\u044b \\u2014 \\u0432 \\u043d\\u0435\\u0431\\u043e\\u043b\\u044c\\u0448\\u043e\\u043c \\u0441\\u0435\\u043b\\u0435 \\u0413\\u0440\\u0430\\u0431\\u043e\\u0432\\u043e \\u0414\\u043e\\u043d\\u0435\\u0446\\u043a\\u043e\\u0439 \\u043e\\u0431\\u043b\\u0430\\u0441\\u0442\\u0438.'},\n",
       "   'title': u'\\u0413\\u0440\\u0430\\u0431\\u043e\\u0432\\u043e. \\u0413\\u043e\\u0434 \\u043f\\u043e\\u0441\\u043b\\u0435 \\u043a\\u0430\\u0442\\u0430\\u0441\\u0442\\u0440\\u043e\\u0444\\u044b',\n",
       "   'title_detail': {'base': u'http://www.gazeta.ru/export/rss/index.xml',\n",
       "    'language': None,\n",
       "    'type': u'text/plain',\n",
       "    'value': u'\\u0413\\u0440\\u0430\\u0431\\u043e\\u0432\\u043e. \\u0413\\u043e\\u0434 \\u043f\\u043e\\u0441\\u043b\\u0435 \\u043a\\u0430\\u0442\\u0430\\u0441\\u0442\\u0440\\u043e\\u0444\\u044b'}},\n",
       "  {'author': u'\"\\u0413\\u0430\\u0437\\u0435\\u0442\\u0430.Ru\"',\n",
       "   'author_detail': {'name': u'\"\\u0413\\u0430\\u0437\\u0435\\u0442\\u0430.Ru\"'},\n",
       "   'authors': [{}],\n",
       "   'guidislink': False,\n",
       "   'id': u'http://www.gazeta.ru/comments/2015/07/16_e_7641417.shtml',\n",
       "   'link': u'http://www.gazeta.ru/comments/2015/07/16_e_7641417.shtml',\n",
       "   'links': [{'href': u'http://www.gazeta.ru/comments/2015/07/16_e_7641417.shtml',\n",
       "     'rel': u'alternate',\n",
       "     'type': u'text/html'},\n",
       "    {'href': u'http://img.gazeta.ru/files3/897/7643897/boeingredaction-pic60-60x60-24625.jpg',\n",
       "     'rel': u'enclosure',\n",
       "     'type': u'image/jpeg'}],\n",
       "   'published': u'Thu, 16 Jul 2015 22:05:29 +0300',\n",
       "   'published_parsed': time.struct_time(tm_year=2015, tm_mon=7, tm_mday=16, tm_hour=19, tm_min=5, tm_sec=29, tm_wday=3, tm_yday=197, tm_isdst=0),\n",
       "   'summary': u'\\u041e\\u0444\\u0438\\u0446\\u0438\\u0430\\u043b\\u044c\\u043d\\u044b\\u0435 \\u0440\\u0435\\u0437\\u0443\\u043b\\u044c\\u0442\\u0430\\u0442\\u044b \\u043c\\u0435\\u0436\\u0434\\u0443\\u043d\\u0430\\u0440\\u043e\\u0434\\u043d\\u043e\\u0433\\u043e \\u0440\\u0430\\u0441\\u0441\\u043b\\u0435\\u0434\\u043e\\u0432\\u0430\\u043d\\u0438\\u044f \\u043a\\u0440\\u0443\\u0448\\u0435\\u043d\\u0438\\u044f \\u043c\\u0430\\u043b\\u0430\\u0439\\u0437\\u0438\\u0439\\u0441\\u043a\\u043e\\u0433\\u043e Boeing \\u0432 \\u043d\\u0435\\u0431\\u0435 \\u043d\\u0430\\u0434 \\u0414\\u043e\\u043d\\u0431\\u0430\\u0441\\u0441\\u043e\\u043c \\u0434\\u043e\\u043b\\u0436\\u043d\\u044b \\u0431\\u044b\\u0442\\u044c \\u043e\\u043f\\u0443\\u0431\\u043b\\u0438\\u043a\\u043e\\u0432\\u0430\\u043d\\u044b \\u043e\\u0441\\u0435\\u043d\\u044c\\u044e. \\u041d\\u043e \\u0443\\u0442\\u0435\\u0447\\u043a\\u0438 \\u043d\\u0430\\u0447\\u0430\\u043b\\u0438\\u0441\\u044c \\u0443\\u0436\\u0435 \\u043d\\u0430\\u043a\\u0430\\u043d\\u0443\\u043d\\u0435 \\u0433\\u043e\\u0434\\u043e\\u0432\\u0449\\u0438\\u043d\\u044b \\u0442\\u0440\\u0430\\u0433\\u0435\\u0434\\u0438\\u0438 \\u2013 17 \\u0438\\u044e\\u043b\\u044f. \\u041c\\u0438\\u0440 \\u0435\\u0435 \\u043d\\u0435 \\u0437\\u0430\\u0431\\u044b\\u043b. \\u0418 \\u043d\\u0435 \\u043f\\u0440\\u043e\\u0441\\u0442\\u0438\\u043b. \\u0422\\u043e\\u0433\\u0434\\u0430, \\u0436\\u0430\\u0440\\u043a\\u0438\\u043c \\u0438\\u044e\\u043b\\u044c\\u0441\\u043a\\u0438\\u043c \\u0432\\u0435\\u0447\\u0435\\u0440\\u043e\\u043c, \\u0438\\u0437\\u043c\\u0435\\u043d\\u0438\\u043b\\u043e\\u0441\\u044c \\u0432 \\u043e\\u0434\\u043d\\u043e\\u0447\\u0430\\u0441\\u044c\\u0435 \\u0432\\u0441\\u0435: \\u0445\\u043e\\u0434 \\u0441\\u043e\\u0431\\u044b\\u0442\\u0438\\u0439 \\u043d\\u0430 \\u0432\\u043e\\u0441\\u0442\\u043e\\u043a\\u0435 \\u0423\\u043a\\u0440\\u0430\\u0438\\u043d\\u044b, \\u0441\\u0442\\u0435\\u043f\\u0435\\u043d\\u044c \\u0432\\u043d\\u0438\\u043c\\u0430\\u043d\\u0438\\u044f \\u043a \\u043a\\u043e\\u043d\\u0444\\u043b\\u0438\\u043a\\u0442\\u0443, \\u043e\\u0446\\u0435\\u043d\\u043a\\u0430 \\u0434\\u0435\\u0439\\u0441\\u0442\\u0432\\u0438\\u0439 \\u0420\\u043e\\u0441\\u0441\\u0438\\u0438.',\n",
       "   'summary_detail': {'base': u'http://www.gazeta.ru/export/rss/index.xml',\n",
       "    'language': None,\n",
       "    'type': u'text/html',\n",
       "    'value': u'\\u041e\\u0444\\u0438\\u0446\\u0438\\u0430\\u043b\\u044c\\u043d\\u044b\\u0435 \\u0440\\u0435\\u0437\\u0443\\u043b\\u044c\\u0442\\u0430\\u0442\\u044b \\u043c\\u0435\\u0436\\u0434\\u0443\\u043d\\u0430\\u0440\\u043e\\u0434\\u043d\\u043e\\u0433\\u043e \\u0440\\u0430\\u0441\\u0441\\u043b\\u0435\\u0434\\u043e\\u0432\\u0430\\u043d\\u0438\\u044f \\u043a\\u0440\\u0443\\u0448\\u0435\\u043d\\u0438\\u044f \\u043c\\u0430\\u043b\\u0430\\u0439\\u0437\\u0438\\u0439\\u0441\\u043a\\u043e\\u0433\\u043e Boeing \\u0432 \\u043d\\u0435\\u0431\\u0435 \\u043d\\u0430\\u0434 \\u0414\\u043e\\u043d\\u0431\\u0430\\u0441\\u0441\\u043e\\u043c \\u0434\\u043e\\u043b\\u0436\\u043d\\u044b \\u0431\\u044b\\u0442\\u044c \\u043e\\u043f\\u0443\\u0431\\u043b\\u0438\\u043a\\u043e\\u0432\\u0430\\u043d\\u044b \\u043e\\u0441\\u0435\\u043d\\u044c\\u044e. \\u041d\\u043e \\u0443\\u0442\\u0435\\u0447\\u043a\\u0438 \\u043d\\u0430\\u0447\\u0430\\u043b\\u0438\\u0441\\u044c \\u0443\\u0436\\u0435 \\u043d\\u0430\\u043a\\u0430\\u043d\\u0443\\u043d\\u0435 \\u0433\\u043e\\u0434\\u043e\\u0432\\u0449\\u0438\\u043d\\u044b \\u0442\\u0440\\u0430\\u0433\\u0435\\u0434\\u0438\\u0438 \\u2013 17 \\u0438\\u044e\\u043b\\u044f. \\u041c\\u0438\\u0440 \\u0435\\u0435 \\u043d\\u0435 \\u0437\\u0430\\u0431\\u044b\\u043b. \\u0418 \\u043d\\u0435 \\u043f\\u0440\\u043e\\u0441\\u0442\\u0438\\u043b. \\u0422\\u043e\\u0433\\u0434\\u0430, \\u0436\\u0430\\u0440\\u043a\\u0438\\u043c \\u0438\\u044e\\u043b\\u044c\\u0441\\u043a\\u0438\\u043c \\u0432\\u0435\\u0447\\u0435\\u0440\\u043e\\u043c, \\u0438\\u0437\\u043c\\u0435\\u043d\\u0438\\u043b\\u043e\\u0441\\u044c \\u0432 \\u043e\\u0434\\u043d\\u043e\\u0447\\u0430\\u0441\\u044c\\u0435 \\u0432\\u0441\\u0435: \\u0445\\u043e\\u0434 \\u0441\\u043e\\u0431\\u044b\\u0442\\u0438\\u0439 \\u043d\\u0430 \\u0432\\u043e\\u0441\\u0442\\u043e\\u043a\\u0435 \\u0423\\u043a\\u0440\\u0430\\u0438\\u043d\\u044b, \\u0441\\u0442\\u0435\\u043f\\u0435\\u043d\\u044c \\u0432\\u043d\\u0438\\u043c\\u0430\\u043d\\u0438\\u044f \\u043a \\u043a\\u043e\\u043d\\u0444\\u043b\\u0438\\u043a\\u0442\\u0443, \\u043e\\u0446\\u0435\\u043d\\u043a\\u0430 \\u0434\\u0435\\u0439\\u0441\\u0442\\u0432\\u0438\\u0439 \\u0420\\u043e\\u0441\\u0441\\u0438\\u0438.'},\n",
       "   'title': u'\\u041f\\u043e\\u043b\\u0435\\u0442 \\u0432\\u043e\\u0439\\u043d\\u044b',\n",
       "   'title_detail': {'base': u'http://www.gazeta.ru/export/rss/index.xml',\n",
       "    'language': None,\n",
       "    'type': u'text/plain',\n",
       "    'value': u'\\u041f\\u043e\\u043b\\u0435\\u0442 \\u0432\\u043e\\u0439\\u043d\\u044b'}}],\n",
       " 'feed': {'link': u'http://www.gazeta.ru/boeing/index.shtml',\n",
       "  'links': [{'href': u'http://www.gazeta.ru/boeing/index.shtml',\n",
       "    'rel': u'alternate',\n",
       "    'type': u'text/html'}],\n",
       "  'published': u'Mon, 28 Mar 2016 00:49:03 +0300',\n",
       "  'published_parsed': time.struct_time(tm_year=2016, tm_mon=3, tm_mday=27, tm_hour=21, tm_min=49, tm_sec=3, tm_wday=6, tm_yday=87, tm_isdst=0),\n",
       "  'subtitle': u'\\u0413\\u043e\\u0434 \\u043d\\u0430\\u0437\\u0430\\u0434 Boeing 777 \\u0430\\u0432\\u0438\\u0430\\u043a\\u043e\\u043c\\u043f\\u0430\\u043d\\u0438\\u0438 Malaysia Airlines, \\u0432\\u044b\\u043f\\u043e\\u043b\\u043d\\u044f\\u0432\\u0448\\u0438\\u0439 \\u043f\\u043b\\u0430\\u043d\\u043e\\u0432\\u044b\\u0439 \\u0440\\u0435\\u0439\\u0441 \\u0438\\u0437 \\u0410\\u043c\\u0441\\u0442\\u0435\\u0440\\u0434\\u0430\\u043c\\u0430 \\u0432 \\u041a\\u0443\\u0430\\u043b\\u0430-\\u041b\\u0443\\u043c\\u043f\\u0443\\u0440, \\u0431\\u044b\\u043b \\u0441\\u0431\\u0438\\u0442 \\u043d\\u0430 \\u0433\\u0440\\u0430\\u043d\\u0438\\u0446\\u0435 \\u0414\\u043e\\u043d\\u0435\\u0446\\u043a\\u043e\\u0439 \\u0438 \\u041b\\u0443\\u0433\\u0430\\u043d\\u0441\\u043a\\u043e\\u0439 \\u043e\\u0431\\u043b\\u0430\\u0441\\u0442\\u0435\\u0439. \\u041f\\u043e\\u0433\\u0438\\u0431\\u043b\\u0438 283 \\u043f\\u0430\\u0441\\u0441\\u0430\\u0436\\u0438\\u0440\\u0430 \\u0438 15 \\u0447\\u043b\\u0435\\u043d\\u043e\\u0432 \\u044d\\u043a\\u0438\\u043f\\u0430\\u0436\\u0430.',\n",
       "  'subtitle_detail': {'base': u'http://www.gazeta.ru/export/rss/index.xml',\n",
       "   'language': None,\n",
       "   'type': u'text/html',\n",
       "   'value': u'\\u0413\\u043e\\u0434 \\u043d\\u0430\\u0437\\u0430\\u0434 Boeing 777 \\u0430\\u0432\\u0438\\u0430\\u043a\\u043e\\u043c\\u043f\\u0430\\u043d\\u0438\\u0438 Malaysia Airlines, \\u0432\\u044b\\u043f\\u043e\\u043b\\u043d\\u044f\\u0432\\u0448\\u0438\\u0439 \\u043f\\u043b\\u0430\\u043d\\u043e\\u0432\\u044b\\u0439 \\u0440\\u0435\\u0439\\u0441 \\u0438\\u0437 \\u0410\\u043c\\u0441\\u0442\\u0435\\u0440\\u0434\\u0430\\u043c\\u0430 \\u0432 \\u041a\\u0443\\u0430\\u043b\\u0430-\\u041b\\u0443\\u043c\\u043f\\u0443\\u0440, \\u0431\\u044b\\u043b \\u0441\\u0431\\u0438\\u0442 \\u043d\\u0430 \\u0433\\u0440\\u0430\\u043d\\u0438\\u0446\\u0435 \\u0414\\u043e\\u043d\\u0435\\u0446\\u043a\\u043e\\u0439 \\u0438 \\u041b\\u0443\\u0433\\u0430\\u043d\\u0441\\u043a\\u043e\\u0439 \\u043e\\u0431\\u043b\\u0430\\u0441\\u0442\\u0435\\u0439. \\u041f\\u043e\\u0433\\u0438\\u0431\\u043b\\u0438 283 \\u043f\\u0430\\u0441\\u0441\\u0430\\u0436\\u0438\\u0440\\u0430 \\u0438 15 \\u0447\\u043b\\u0435\\u043d\\u043e\\u0432 \\u044d\\u043a\\u0438\\u043f\\u0430\\u0436\\u0430.'},\n",
       "  'title': u'\\u0413\\u0430\\u0437\\u0435\\u0442\\u0430.Ru',\n",
       "  'title_detail': {'base': u'http://www.gazeta.ru/export/rss/index.xml',\n",
       "   'language': None,\n",
       "   'type': u'text/plain',\n",
       "   'value': u'\\u0413\\u0430\\u0437\\u0435\\u0442\\u0430.Ru'},\n",
       "  'ttl': u'20'},\n",
       " 'headers': {'accept-ranges': 'bytes',\n",
       "  'access-control-allow-origin': '*',\n",
       "  'cache-control': 'max-age=60',\n",
       "  'connection': 'close',\n",
       "  'content-length': '4919',\n",
       "  'content-type': 'application/xml; charset=windows-1251',\n",
       "  'date': 'Sun, 27 Mar 2016 21:53:16 GMT',\n",
       "  'expires': 'Sun, 27 Mar 2016 21:54:16 GMT',\n",
       "  'server': 'nginx'},\n",
       " 'href': u'http://www.gazeta.ru/export/rss/index.xml',\n",
       " 'namespaces': {},\n",
       " 'status': 200,\n",
       " 'version': u'rss20'}"
      ]
     },
     "execution_count": 7,
     "metadata": {},
     "output_type": "execute_result"
    }
   ],
   "source": [
    "feed"
   ]
  },
  {
   "cell_type": "code",
   "execution_count": 245,
   "metadata": {
    "collapsed": true
   },
   "outputs": [],
   "source": [
    "e = feed.entries[0]"
   ]
  },
  {
   "cell_type": "code",
   "execution_count": 248,
   "metadata": {
    "collapsed": false
   },
   "outputs": [
    {
     "data": {
      "text/plain": [
       "True"
      ]
     },
     "execution_count": 248,
     "metadata": {},
     "output_type": "execute_result"
    }
   ],
   "source": [
    "'summary' in e"
   ]
  },
  {
   "cell_type": "code",
   "execution_count": null,
   "metadata": {
    "collapsed": true
   },
   "outputs": [],
   "source": []
  }
 ],
 "metadata": {
  "kernelspec": {
   "display_name": "Python 2",
   "language": "python",
   "name": "python2"
  },
  "language_info": {
   "codemirror_mode": {
    "name": "ipython",
    "version": 2
   },
   "file_extension": ".py",
   "mimetype": "text/x-python",
   "name": "python",
   "nbconvert_exporter": "python",
   "pygments_lexer": "ipython2",
   "version": "2.7.10"
  }
 },
 "nbformat": 4,
 "nbformat_minor": 0
}
