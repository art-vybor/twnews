{
 "cells": [
  {
   "cell_type": "code",
   "execution_count": 7,
   "metadata": {
    "collapsed": true
   },
   "outputs": [],
   "source": [
    "from twnews.utils.memoize import memo_process, load, dump\n",
    "recommendation = load('recommendation')"
   ]
  },
  {
   "cell_type": "code",
   "execution_count": 8,
   "metadata": {
    "collapsed": false
   },
   "outputs": [],
   "source": [
    "# #print recommendation\n",
    "# score_edge = 0.0\n",
    "\n",
    "# filtered_recoms = []\n",
    "# for tweet, news_list in recommendation:\n",
    "#     filtered_news = filter(lambda x: x[1] > score_edge, news_list)\n",
    "#     if not filtered_news:\n",
    "#         continue\n",
    "#     in_news = map(lambda recom: tweet.text.replace(' ', '') in recom[0].title.replace(' ', ''), filtered_news)\n",
    "#     if any(in_news):\n",
    "#         continue\n",
    "#         pass\n",
    "#     filtered_recoms.append((tweet, filtered_news))\n",
    "# print len(recommendation), len(filtered_recoms)"
   ]
  },
  {
   "cell_type": "code",
   "execution_count": 9,
   "metadata": {
    "collapsed": false
   },
   "outputs": [],
   "source": [
    "# if True:\n",
    "#     for tweet, news_list in filtered_recoms[:10]:\n",
    "#         print tweet.text.replace('\\n', ' ')\n",
    "#         if tweet.urls:\n",
    "#             for url in tweet.urls:\n",
    "#                 print url,\n",
    "#             print ''\n",
    "#         for news, score in news_list:\n",
    "#             print '\\t', news, score\n",
    "#             #if news.summary: print '\\t', news.summary\n",
    "#             print '\\t', news.link\n",
    "#             print '\\t', '------------'"
   ]
  },
  {
   "cell_type": "code",
   "execution_count": 11,
   "metadata": {
    "collapsed": false
   },
   "outputs": [],
   "source": [
    "batch_size = 1000\n",
    "\n",
    "batchs = [recommendation[i:i+batch_size] for i in xrange(0, len(recommendation), batch_size)]\n",
    "for batch_idx, recoms_batch in enumerate(batchs):\n",
    "    start = batch_idx*batch_size\n",
    "    filename = '/home/avybornov/twnews_data_april/dataset_markdown/recoms_filtered_2_tfidf_%s(%s)' % (len(recommendation), start)\n",
    "    with open(filename, 'w') as f:\n",
    "         for i, (tweet, news_list) in enumerate(recoms_batch):\n",
    "            f.write('%d) %s\\n' % (i, tweet.text.replace('\\n', ' ').encode('utf-8')))\n",
    "\n",
    "            f.write('%s\\n' % tweet.tweet_id)\n",
    "            if tweet.urls:\n",
    "                f.write('%s\\n' % ' '.join(tweet.urls))\n",
    "            for news, score in news_list:\n",
    "                f.write('\\t%s\\n' % news)\n",
    "                f.write('\\t%s\\n'% news.link)\n",
    "                f.write('\\t---------------------\\n')\n",
    "                #print '\\t', news.link\n",
    "                #if news.summary: print '\\t', news.summary        \n",
    "                #print '\\t', '------------'"
   ]
  },
  {
   "cell_type": "code",
   "execution_count": null,
   "metadata": {
    "collapsed": true
   },
   "outputs": [],
   "source": []
  }
 ],
 "metadata": {
  "kernelspec": {
   "display_name": "Python 2",
   "language": "python",
   "name": "python2"
  },
  "language_info": {
   "codemirror_mode": {
    "name": "ipython",
    "version": 2
   },
   "file_extension": ".py",
   "mimetype": "text/x-python",
   "name": "python",
   "nbconvert_exporter": "python",
   "pygments_lexer": "ipython2",
   "version": "2.7.10"
  }
 },
 "nbformat": 4,
 "nbformat_minor": 0
}
