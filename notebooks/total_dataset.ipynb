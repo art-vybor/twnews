{
 "cells": [
  {
   "cell_type": "code",
   "execution_count": 4,
   "metadata": {
    "collapsed": false
   },
   "outputs": [
    {
     "name": "stdout",
     "output_type": "stream",
     "text": [
      "4324\n",
      "1600\n"
     ]
    }
   ],
   "source": [
    "from twnews.utils.memoize import load, dump\n",
    "\n",
    "auto_dataset = load('dataset_auto_0.0','/home/avybornov/twnews_data_april/gold_dataset')\n",
    "auto_tweets = auto_dataset.tweets.get_documents()\n",
    "print len(auto_tweets)\n",
    "\n",
    "manual_dataset = load('dataset_manual_0.0','/home/avybornov/twnews_data_april/gold_dataset')\n",
    "manual_tweets = manual_dataset.tweets.get_documents()\n",
    "print len(manual_tweets)\n"
   ]
  },
  {
   "cell_type": "code",
   "execution_count": 5,
   "metadata": {
    "collapsed": false
   },
   "outputs": [],
   "source": [
    "total_tweets = auto_tweets + manual_tweets\n",
    "# dump(total_tweets, 'total_tweets')"
   ]
  },
  {
   "cell_type": "code",
   "execution_count": 8,
   "metadata": {
    "collapsed": true
   },
   "outputs": [],
   "source": [
    "news_storage = auto_dataset.news\n",
    "news = auto_dataset.news.get_documents()"
   ]
  },
  {
   "cell_type": "code",
   "execution_count": 9,
   "metadata": {
    "collapsed": false
   },
   "outputs": [
    {
     "name": "stdout",
     "output_type": "stream",
     "text": [
      "13711\n"
     ]
    }
   ],
   "source": [
    "print len(news)"
   ]
  },
  {
   "cell_type": "code",
   "execution_count": 23,
   "metadata": {
    "collapsed": false
   },
   "outputs": [],
   "source": [
    "links = set()\n",
    "for tweet in total_tweets:\n",
    "    a = False\n",
    "    for url in tweet.urls:\n",
    "        if news_storage.exists(url):\n",
    "            links.add(url)\n",
    "            a = True\n",
    "    if not a:\n",
    "        print 'we have a problem'"
   ]
  },
  {
   "cell_type": "code",
   "execution_count": 24,
   "metadata": {
    "collapsed": false
   },
   "outputs": [
    {
     "name": "stdout",
     "output_type": "stream",
     "text": [
      "tweets 5924\n",
      "links 3819\n",
      "news 13711\n"
     ]
    }
   ],
   "source": [
    "print 'tweets', len(total_tweets)\n",
    "print 'links', len(links)\n",
    "print 'news', len(news)\n"
   ]
  },
  {
   "cell_type": "code",
   "execution_count": 25,
   "metadata": {
    "collapsed": false
   },
   "outputs": [],
   "source": [
    "from random import randint\n",
    "news_to_delete = set()\n",
    "\n",
    "while len(news_to_delete) < 7700:\n",
    "    idx = randint(0, len(news)-1)\n",
    "    _news = news[idx]\n",
    "    if _news.link not in links:\n",
    "        news_to_delete.add(_news.link)\n",
    "        "
   ]
  },
  {
   "cell_type": "code",
   "execution_count": 33,
   "metadata": {
    "collapsed": false
   },
   "outputs": [
    {
     "name": "stdout",
     "output_type": "stream",
     "text": [
      "6011\n"
     ]
    }
   ],
   "source": [
    "from copy import deepcopy\n",
    "cutted_news_storage = deepcopy(news_storage)\n",
    "\n",
    "for link in news_to_delete:\n",
    "    del cutted_news_storage.documents[link]\n",
    "print cutted_news_storage.length()"
   ]
  },
  {
   "cell_type": "code",
   "execution_count": 34,
   "metadata": {
    "collapsed": true
   },
   "outputs": [],
   "source": [
    "dump(cutted_news_storage, 'cutted_news_storage')"
   ]
  },
  {
   "cell_type": "code",
   "execution_count": 35,
   "metadata": {
    "collapsed": false
   },
   "outputs": [
    {
     "name": "stdout",
     "output_type": "stream",
     "text": [
      "dataset_total_0.0\n",
      "\tnews 13711\n",
      "\ttweets 5798\n",
      "dataset_total_0.5\n",
      "\tnews 13711\n",
      "\ttweets 1709\n",
      "dataset_manual_0.0\n",
      "\tnews 13711\n",
      "\ttweets 1600\n",
      "dataset_manual_0.5\n",
      "\tnews 13711\n",
      "\ttweets 976\n",
      "dataset_auto_0.0\n",
      "\tnews 13711\n",
      "\ttweets 4324\n",
      "dataset_auto_0.5\n",
      "\tnews 13711\n",
      "\ttweets 746\n",
      "dataset_cutted_0.0\n",
      "\tnews 6011\n",
      "\ttweets 5798\n",
      "dataset_cutted_0.5\n",
      "\tnews 6011\n",
      "\ttweets 1709\n"
     ]
    }
   ],
   "source": [
    "folder = '/home/avybornov/twnews_data_april/gold_dataset'\n",
    "files = ['dataset_total_0.0',\n",
    "        'dataset_total_0.5',\n",
    "        'dataset_manual_0.0',\n",
    "        'dataset_manual_0.5',\n",
    "        'dataset_auto_0.0',\n",
    "        'dataset_auto_0.5',\n",
    "        'dataset_cutted_0.0',\n",
    "        'dataset_cutted_0.5']\n",
    "\n",
    "for f in files:\n",
    "    print f\n",
    "    dataset = load(f, folder)\n",
    "    print '\\tnews', dataset.news.length()\n",
    "    print '\\ttweets', dataset.tweets.length()"
   ]
  },
  {
   "cell_type": "code",
   "execution_count": null,
   "metadata": {
    "collapsed": true
   },
   "outputs": [],
   "source": []
  }
 ],
 "metadata": {
  "kernelspec": {
   "display_name": "Python 2",
   "language": "python",
   "name": "python2"
  },
  "language_info": {
   "codemirror_mode": {
    "name": "ipython",
    "version": 2
   },
   "file_extension": ".py",
   "mimetype": "text/x-python",
   "name": "python",
   "nbconvert_exporter": "python",
   "pygments_lexer": "ipython2",
   "version": "2.7.10"
  }
 },
 "nbformat": 4,
 "nbformat_minor": 0
}
