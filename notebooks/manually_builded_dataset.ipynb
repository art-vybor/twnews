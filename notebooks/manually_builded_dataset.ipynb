{
 "cells": [
  {
   "cell_type": "code",
   "execution_count": 116,
   "metadata": {
    "collapsed": false
   },
   "outputs": [
    {
     "name": "stdout",
     "output_type": "stream",
     "text": [
      "/home/avybornov/twnews_data_april/dataset_markdown/filtered_2_1173/fiiltered_2_result\n",
      "/home/avybornov/twnews_data_april/dataset_markdown/filtered_500/filtered_result\n",
      "/home/avybornov/twnews_data_april/dataset_markdown/recoms_filtered_2_tfidf_10000(0)_result\n",
      "/home/avybornov/twnews_data_april/dataset_markdown/recoms_filtered_2_tfidf_10000(1000)_result\n",
      "/home/avybornov/twnews_data_april/dataset_markdown/recoms_filtered_2_tfidf_10000(2000)_result\n"
     ]
    },
    {
     "ename": "IndexError",
     "evalue": "string index out of range",
     "output_type": "error",
     "traceback": [
      "\u001b[1;31m---------------------------------------------------------------------------\u001b[0m",
      "\u001b[1;31mIndexError\u001b[0m                                Traceback (most recent call last)",
      "\u001b[1;32m<ipython-input-116-d8e62ff72669>\u001b[0m in \u001b[0;36m<module>\u001b[1;34m()\u001b[0m\n\u001b[0;32m     72\u001b[0m     \u001b[0midx\u001b[0m \u001b[1;33m=\u001b[0m \u001b[1;36m0\u001b[0m\u001b[1;33m\u001b[0m\u001b[0m\n\u001b[0;32m     73\u001b[0m     \u001b[1;32mwhile\u001b[0m \u001b[0midx\u001b[0m \u001b[1;33m<\u001b[0m \u001b[0mlen\u001b[0m\u001b[1;33m(\u001b[0m\u001b[0mrows\u001b[0m\u001b[1;33m)\u001b[0m\u001b[1;33m:\u001b[0m\u001b[1;33m\u001b[0m\u001b[0m\n\u001b[1;32m---> 74\u001b[1;33m         \u001b[0midx\u001b[0m\u001b[1;33m,\u001b[0m \u001b[0mtweet_id\u001b[0m \u001b[1;33m=\u001b[0m \u001b[0mparse_tweet\u001b[0m\u001b[1;33m(\u001b[0m\u001b[0mrows\u001b[0m\u001b[1;33m,\u001b[0m \u001b[0midx\u001b[0m\u001b[1;33m)\u001b[0m\u001b[1;33m\u001b[0m\u001b[0m\n\u001b[0m\u001b[0;32m     75\u001b[0m         \u001b[0midx\u001b[0m\u001b[1;33m,\u001b[0m \u001b[0mnews_link\u001b[0m \u001b[1;33m=\u001b[0m \u001b[0mparse_all_news\u001b[0m\u001b[1;33m(\u001b[0m\u001b[0mrows\u001b[0m\u001b[1;33m,\u001b[0m \u001b[0midx\u001b[0m\u001b[1;33m)\u001b[0m\u001b[1;33m\u001b[0m\u001b[0m\n\u001b[0;32m     76\u001b[0m         \u001b[0mtweet_to_news\u001b[0m\u001b[1;33m[\u001b[0m\u001b[0mfile_suffix\u001b[0m\u001b[1;33m]\u001b[0m\u001b[1;33m[\u001b[0m\u001b[0mtweet_id\u001b[0m\u001b[1;33m]\u001b[0m \u001b[1;33m=\u001b[0m \u001b[0mnews_link\u001b[0m\u001b[1;33m\u001b[0m\u001b[0m\n",
      "\u001b[1;32m<ipython-input-116-d8e62ff72669>\u001b[0m in \u001b[0;36mparse_tweet\u001b[1;34m(rows, idx)\u001b[0m\n\u001b[0;32m      9\u001b[0m \u001b[1;33m\u001b[0m\u001b[0m\n\u001b[0;32m     10\u001b[0m \u001b[1;32mdef\u001b[0m \u001b[0mparse_tweet\u001b[0m\u001b[1;33m(\u001b[0m\u001b[0mrows\u001b[0m\u001b[1;33m,\u001b[0m \u001b[0midx\u001b[0m\u001b[1;33m)\u001b[0m\u001b[1;33m:\u001b[0m\u001b[1;33m\u001b[0m\u001b[0m\n\u001b[1;32m---> 11\u001b[1;33m     \u001b[1;32mif\u001b[0m \u001b[1;32mnot\u001b[0m \u001b[0mrows\u001b[0m\u001b[1;33m[\u001b[0m\u001b[0midx\u001b[0m\u001b[1;33m]\u001b[0m\u001b[1;33m[\u001b[0m\u001b[1;36m0\u001b[0m\u001b[1;33m]\u001b[0m\u001b[1;33m.\u001b[0m\u001b[0misdigit\u001b[0m\u001b[1;33m(\u001b[0m\u001b[1;33m)\u001b[0m\u001b[1;33m:\u001b[0m \u001b[1;32mraise\u001b[0m\u001b[1;33m(\u001b[0m\u001b[0mException\u001b[0m\u001b[1;33m(\u001b[0m\u001b[1;34m'Incorrect first row of tweet: %s'\u001b[0m \u001b[1;33m%\u001b[0m \u001b[0midx\u001b[0m\u001b[1;33m)\u001b[0m\u001b[1;33m)\u001b[0m\u001b[1;33m\u001b[0m\u001b[0m\n\u001b[0m\u001b[0;32m     12\u001b[0m     \u001b[0mtext\u001b[0m \u001b[1;33m=\u001b[0m \u001b[0mrows\u001b[0m\u001b[1;33m[\u001b[0m\u001b[0midx\u001b[0m\u001b[1;33m]\u001b[0m\u001b[1;33m\u001b[0m\u001b[0m\n\u001b[0;32m     13\u001b[0m \u001b[1;33m\u001b[0m\u001b[0m\n",
      "\u001b[1;31mIndexError\u001b[0m: string index out of range"
     ]
    }
   ],
   "source": [
    "#'random_500/random_result'\n",
    "files = ['filtered_2_1173/fiiltered_2_result',\n",
    "         'filtered_500/filtered_result',\n",
    "         'recoms_filtered_2_tfidf_10000(0)_result',\n",
    "         'recoms_filtered_2_tfidf_10000(1000)_result',\n",
    "         'recoms_filtered_2_tfidf_10000(2000)_result']\n",
    "tweet_texts = {}\n",
    "news_texts = {}\n",
    "\n",
    "def parse_tweet(rows, idx):\n",
    "    if not rows[idx][0].isdigit(): raise(Exception('Incorrect first row of tweet: %s' % idx))\n",
    "    text = rows[idx]\n",
    "    \n",
    "    idx += 1\n",
    "    #print idx\n",
    "    \n",
    "    while not rows[idx][0].isdigit():\n",
    "        text += ' ' + rows[idx]\n",
    "        idx += 1\n",
    "    \n",
    "    if not rows[idx][0].isdigit(): raise(Exception('Incorrect second row of tweet: %s' % idx))    \n",
    "    tweet_id = int(rows[idx])\n",
    "    idx += 1\n",
    "        \n",
    "    while rows[idx][0] != '\\t':\n",
    "        if rows[idx][:4] != 'http': raise(Exception('Incorrect row with link of tweet: %s' % idx))\n",
    "        idx += 1\n",
    "        \n",
    "    tweet_texts[tweet_id] = text\n",
    "    return idx, tweet_id\n",
    "\n",
    "\n",
    "def parse_news(rows, idx):\n",
    "    marked = False\n",
    "    \n",
    "    if rows[idx][0] != '\\t': raise(Exception('News row started without tabulation: %s' % idx))    \n",
    "    if rows[idx][1] == \"!\": marked = True\n",
    "    text = rows[idx]\n",
    "    idx += 1    \n",
    "    \n",
    "    if rows[idx][0] != '\\t': raise(Exception('News row started without tabulation: %s' % idx))    \n",
    "    if rows[idx][1:5] != 'http': raise(Exception('Incorrect row with link of news: %s' % idx))    \n",
    "    link = rows[idx][1:]\n",
    "    idx += 1\n",
    "    \n",
    "    #print rows[idx]\n",
    "    if rows[idx][1] != \"-\": raise(Exception('Incorrect row with news separator: %s' % idx))        \n",
    "    idx += 1\n",
    "    \n",
    "    if marked: news_texts[link] = text\n",
    "    return idx, link if marked else None\n",
    "\n",
    "\n",
    "def parse_all_news(rows, idx):\n",
    "    news_link = None\n",
    "    \n",
    "    #print rows[idx] == '\\t'\n",
    "    while idx < len(rows) and rows[idx] and rows[idx][0] == '\\t':\n",
    "        idx, link = parse_news(rows, idx)\n",
    "        if link and not news_link:\n",
    "            news_link = link        \n",
    "        \n",
    "    return idx, news_link\n",
    "\n",
    "tweet_to_news = {}\n",
    "for file_suffix in files:\n",
    "    filepath = '/home/avybornov/twnews_data_april/dataset_markdown/' + file_suffix\n",
    "    print filepath\n",
    "    rows = open(filepath).read().splitlines()\n",
    "    \n",
    "    tweet_to_news[file_suffix] = {}\n",
    "    idx = 0\n",
    "    while idx < len(rows):\n",
    "        idx, tweet_id = parse_tweet(rows, idx)\n",
    "        idx, news_link = parse_all_news(rows, idx)\n",
    "        tweet_to_news[file_suffix][tweet_id] = news_link\n",
    "        \n",
    "        #print idx\n",
    "#         if idx > 40:\n",
    "#             break"
   ]
  },
  {
   "cell_type": "code",
   "execution_count": 117,
   "metadata": {
    "collapsed": false
   },
   "outputs": [
    {
     "name": "stdout",
     "output_type": "stream",
     "text": [
      "filtered_2_1173/fiiltered_2_result 1173\n",
      "linked: 254 21.65%\n",
      "recoms_filtered_2_tfidf_10000(0)_result 1000\n",
      "linked: 172 17.20%\n",
      "recoms_filtered_2_tfidf_10000(1000)_result 1000\n",
      "linked: 150 15.00%\n",
      "recoms_filtered_2_tfidf_10000(2000)_result 1000\n",
      "linked: 168 16.80%\n",
      "filtered_500/filtered_result 500\n",
      "linked: 261 52.20%\n"
     ]
    }
   ],
   "source": [
    "already_marked = set([])\n",
    "\n",
    "linked_for_files = {}\n",
    "\n",
    "for file_suffix, data in tweet_to_news.iteritems():\n",
    "    print file_suffix, len(data)\n",
    "    linked = {}\n",
    "    for tweet_id, link in data.items():\n",
    "        already_marked.add(tweet_id)\n",
    "        if link: linked[tweet_id] = link\n",
    "    linked_for_files[file_suffix] = linked\n",
    "    print 'linked: %s %.2f%%' % (len(linked), len(linked)*100.0/len(data))\n",
    "        #print '\\t', 'https://twitter.com/statuses/%s' % tweet_id, link\n",
    "        \n",
    "from twnews.utils.memoize import dump\n",
    "dump(already_marked, 'already_marked')\n"
   ]
  },
  {
   "cell_type": "code",
   "execution_count": 118,
   "metadata": {
    "collapsed": false
   },
   "outputs": [
    {
     "name": "stdout",
     "output_type": "stream",
     "text": [
      "recoms_filtered_2_tfidf_10000(1000)_result\n",
      "\t273) #fyseo_ru #rus #ruff Аргентина определила дату выпуска новых облигаций  #взаимный #Ячитаю\n",
      "\t\t!Аргентина определила дату выпуска новых облигаций и выплаты кредиторам\n",
      "\t788) \"Пежо Ситроен Рус\" отзывает 367 автомобилей из России  \n",
      "\t\t!\"Пежо Ситроен Рус\" отзывает 367 автомобилей из России\n",
      "\t216) В Москве начались показы фестиваля Perform\n",
      "\t\t!В Москве стартует международный кинофестиваль Perform\n",
      "\t388) Депутаты Госдумы РФ 12 апреля одобрили в первом чтении законопроект, регулирующий деятельность коллекторов и коллекторских агентств. Текст…\n",
      "\t\t!Госдума одобрила в первом чтении закон о коллекторах\n",
      "\t690) Хоккеисты ЦСКА победили «Магнитку» в матче Кубка Гагарина\n",
      "\t\t!Хоккеисты ЦСКА победили \"Магнитку\" в матче Кубка Гагарина\n",
      "\t31) \"Ашан\" вложит в 2016 г. в расширение бизнеса в России более 17 млрд руб. \n",
      "\t\t!\"Ашан\" вложит 17 млрд рублей в открытие почти 50 магазинов в России\n",
      "\t854) Наибольший доход имеет замглавы администрации президента РФ Вячеслав Володин- 87,1 млн руб.  \n",
      "\t\t!Самым богатым сотрудником администрации Кремля стал Вячеслав Володин\n",
      "\t263) Чемпионат.ру | Агент: Моуринью польщён предложением из Сирии, но не может принять его \n",
      "\t\t!Моуринью отказался возглавить сборную Сирии\n",
      "\t807) Главный драйвер рынков – сезон корпоративной отчётности в США  #новости \n",
      "\t\t!Биржи США растут в преддверии начала сезона корпоративной отчетности\n",
      "\t504) #россия_news Кремль отреагировал на отставку Яценюка\n",
      "\t\t!В Кремле прокомментировали известие об отставке Яценюка\n",
      "\t501) МИД рекомендовал Путину проигнорировать саммит в США\n",
      "\t\t!Президент России объяснил неявку на ядерный саммит в США\n",
      "\t664) Павел Дацюк объявил о завершении карьеры в НХЛ по окончании сезона \n",
      "\t\t!Российский хоккеист Павел Дацюк объявил о завершении карьеры в НХЛ\n",
      "\t370) СМИ нашли у Порошенко еще пять офшоров\n",
      "\t\t!СМИ узнали о еще пяти офшорах Порошенко\n",
      "\t811) В калининградском автомагазине появился освежитель с «ароматом Победы»: В калининградском магазине «Автомир39R... \n",
      "\t\t!В калининградском автомагазине появился освежитель с «ароматом Победы»\n",
      "\t386) Кабмин установил предельный доход для субъектов предпринимательства\n",
      "\t\t!Правительство установило рамки доходов для малого и среднего бизнеса\n",
      "\t92) Медведев: РФ примет максимальное участие в урегулировании в Карабахе: Премьер-министр Дмитрий Медведев заявил ... \n",
      "\t\t!Медведев: РФ будет максимально участвовать в урегулировании в Карабахе\n",
      "\t149) В Коста-Рике в результате столкновения поездов пострадали свыше 200 человек  \n",
      "\t\t!Два поезда столкнулись в Коста-Рике, более 245 человек пострадали\n",
      "\t796) «Манчестер Сити» обыграл ПСЖ и вышел в полуфинал ЛЧ\n",
      "\t\t!\"Манчестер Сити\" победил \"ПСЖ\" и вышел в полуфинал Лиги чемпионов\n",
      "\t206) Порошенко увидел в референдуме в Нидерландах подрыв единства ЕС\n",
      "\t\t!Порошенко назвал референдум в Нидерландах атакой на единство Европы\n",
      "\t269) Политолог: новый кабмин не сможет восстановить промышленность Украины \n",
      "\t\t!Политолог: новый кабмин не сможет восстановить промышленность Украины\n"
     ]
    }
   ],
   "source": [
    "for file_suffix, data in linked_for_files.items()[2:3]:\n",
    "    print file_suffix\n",
    "    for tweet_id, link in data.items()[:20]:\n",
    "        print '\\t',tweet_texts[tweet_id]\n",
    "        print '\\t',news_texts[link]\n",
    "\n",
    "#print len(already_marked)"
   ]
  },
  {
   "cell_type": "code",
   "execution_count": null,
   "metadata": {
    "collapsed": true
   },
   "outputs": [],
   "source": []
  },
  {
   "cell_type": "code",
   "execution_count": null,
   "metadata": {
    "collapsed": true
   },
   "outputs": [],
   "source": []
  }
 ],
 "metadata": {
  "kernelspec": {
   "display_name": "Python 2",
   "language": "python",
   "name": "python2"
  },
  "language_info": {
   "codemirror_mode": {
    "name": "ipython",
    "version": 2
   },
   "file_extension": ".py",
   "mimetype": "text/x-python",
   "name": "python",
   "nbconvert_exporter": "python",
   "pygments_lexer": "ipython2",
   "version": "2.7.10"
  }
 },
 "nbformat": 4,
 "nbformat_minor": 0
}
