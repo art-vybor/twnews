{
 "cells": [
  {
   "cell_type": "code",
   "execution_count": 1,
   "metadata": {
    "collapsed": false
   },
   "outputs": [
    {
     "name": "stdout",
     "output_type": "stream",
     "text": [
      "4324 13711\n"
     ]
    }
   ],
   "source": [
    "# -*- coding: utf-8 -*-\n",
    "%matplotlib inline\n",
    "\n",
    "\n",
    "import matplotlib\n",
    "import matplotlib.pyplot as plt\n",
    "from nltk.corpus import stopwords\n",
    "from twnews.utils.memoize import load\n",
    "from twnews.utils.text_processors import Lemmatizer\n",
    "from nltk.tokenize import word_tokenize\n",
    "from collections import defaultdict\n",
    "\n",
    "dataset = load('dataset')\n",
    "stopwords = stopwords.words('russian') + stopwords.words('english')\n",
    "lemmatizer = Lemmatizer()\n",
    "\n",
    "tweets = dataset.tweets.get_dataset_texts()\n",
    "news = dataset.news.get_dataset_texts()\n",
    "\n",
    "index = 0\n",
    "for _news in news:\n",
    "    _news.index = index\n",
    "    index += 1\n",
    "\n",
    "for tweet in tweets:\n",
    "    tweet.words = lemmatizer.split_text_to_lemmas(tweet.text)\n",
    "    tweet.index = index\n",
    "    index += 1\n",
    "\n",
    "print len(tweets), len(news)"
   ]
  },
  {
   "cell_type": "code",
   "execution_count": 2,
   "metadata": {
    "collapsed": false
   },
   "outputs": [],
   "source": [
    "def get_all_hashtags(tweets):\n",
    "    hashtags = set()\n",
    "    for tweet in tweets:\n",
    "        hashtags.update(map(lemmatizer.lemmatize, tweet.hastags.keys()))\n",
    "    return hashtags\n",
    "\n",
    "def document_date_distanse(d1, d2):\n",
    "    return max(d1.date, d2.date) - min(d1.date, d2.date)\n",
    "\n",
    "def get_top_k_by_time(base_document, documents, k):\n",
    "    documents = filter(lambda x: x.index != base_document.index, documents)\n",
    "    documents = sorted(documents, key=lambda x: document_date_distanse(x, base_document))\n",
    "    return documents[:k]\n",
    "\n",
    "def get_tweet_to_tweet_hashtags_relation(tweets, k):\n",
    "    hashtags = get_all_hashtags(tweets)\n",
    "    print 'hashtags:', len(hashtags)\n",
    "\n",
    "    hashtag_to_tweets = defaultdict(list)      \n",
    "    for tweet in tweets:\n",
    "        for word in tweet.words:\n",
    "            if word in hashtags:\n",
    "                tweet.hastags[word] = None\n",
    "                hashtag_to_tweets[word].append(tweet)\n",
    "    \n",
    "    result = set()\n",
    "    for tweet in tweets:\n",
    "        for hashtag in tweet.hastags.keys():\n",
    "            linked_tweets = hashtag_to_tweets[hashtag]\n",
    "            top_k = get_top_k_by_time(tweet, linked_tweets, k)\n",
    "            if top_k:\n",
    "                for elem in top_k:\n",
    "                    result.add((tweet.index, elem.index))\n",
    "    print 'tweet_to_tweet_hashtags', len(result)\n",
    "    return result\n",
    "\n",
    "def get_tweet_to_tweet_NER_relation(tweets, NE_set, k):\n",
    "    NE_to_tweets = defaultdict(list)\n",
    "    \n",
    "    for tweet in tweets:\n",
    "        tweet.named_entities = []\n",
    "        for word in tweet.words:\n",
    "            if word in NE_set:\n",
    "                tweet.named_entities.append(word)\n",
    "                NE_to_tweets[word].append(tweet)\n",
    "    \n",
    "    result = set()\n",
    "    for tweet in tweets:\n",
    "        for entity in tweet.named_entities:\n",
    "            linked_tweets = NE_to_tweets[entity]\n",
    "            top_k = get_top_k_by_time(tweet, linked_tweets, k)\n",
    "            if top_k:\n",
    "                for elem in top_k:\n",
    "                    result.add((tweet.index, elem.index))\n",
    "    print 'tweet_to_tweet_NER', len(result)\n",
    "    return result"
   ]
  },
  {
   "cell_type": "code",
   "execution_count": 3,
   "metadata": {
    "collapsed": true
   },
   "outputs": [],
   "source": [
    "from polyglot.text import Text\n",
    "\n",
    "def extract_entities(text):\n",
    "    t = Text(text)\n",
    "    t.language = 'ru'\n",
    "\n",
    "    result = set()\n",
    "    for entity in t.entities:\n",
    "        result.update([lemmatizer.lemmatize(x) for x in entity])\n",
    "    return result\n",
    "\n",
    "def get_NE_from_news(news_documents):\n",
    "    result = set()\n",
    "    errors = 0\n",
    "    for i, news in enumerate(news_documents):\n",
    "        try:\n",
    "            ents = extract_entities(news.summary)\n",
    "        except Exception as e:\n",
    "            errors += 1\n",
    "            ents = set()\n",
    "        result.update(ents)\n",
    "    print 'NE:', len(result), 'errors:', errors\n",
    "    return result"
   ]
  },
  {
   "cell_type": "code",
   "execution_count": 4,
   "metadata": {
    "collapsed": false
   },
   "outputs": [],
   "source": [
    "corpus, tf_idf_matrix = load('tf_idf_corpus')\n",
    "\n",
    "def get_similarity_matrix(documents_1, documents_2):\n",
    "    from sklearn.metrics.pairwise import cosine_similarity\n",
    "    from scipy import sparse\n",
    "    def convert_to_compare_matrix(documents):\n",
    "        dim = len(corpus)\n",
    "\n",
    "        data, row_idxs, column_idxs = [], [], []\n",
    "        for column_idx, document in enumerate(documents):\n",
    "            rows, _, values = sparse.find(tf_idf_matrix[:document.index])\n",
    "            for i, value in enumerate(values):\n",
    "                data.append(values[i])\n",
    "                row_idxs.append(rows[i])\n",
    "                column_idxs.append(column_idx)\n",
    "\n",
    "        compare_matrix = sparse.csr_matrix((data, (row_idxs, column_idxs)), shape=(dim, len(documents)))\n",
    "        return compare_matrix\n",
    "\n",
    "    matrix_1 = convert_to_compare_matrix(documents_1)\n",
    "    print 'matrix 1 builded'\n",
    "    \n",
    "    matrix_2 = convert_to_compare_matrix(documents_2)\n",
    "    print 'matrix 2 builded'\n",
    "\n",
    "    mat = cosine_similarity(matrix_1.T, matrix_2.T)\n",
    "    print 'similarity matrix builded'\n",
    "    return mat"
   ]
  },
  {
   "cell_type": "code",
   "execution_count": 8,
   "metadata": {
    "collapsed": false
   },
   "outputs": [
    {
     "name": "stdout",
     "output_type": "stream",
     "text": [
      "hashtags: 21\n",
      "tweet_to_tweet_hashtags 95\n",
      "NE: 186 errors: 9\n",
      "tweet_to_tweet_NER 128\n",
      "matrix 1 builded\n",
      "matrix 2 builded\n",
      "similarity matrix builded\n",
      "document_to_documet_time_relation 300\n",
      "matrix 1 builded\n",
      "matrix 2 builded\n",
      "similarity matrix builded\n",
      "document_to_documet_time_relation 300\n"
     ]
    }
   ],
   "source": [
    "from datetime import timedelta\n",
    "import heapq\n",
    "\n",
    "def get_document_to_documet_time_relation(documents, k):\n",
    "    similarity = get_similarity_matrix(documents, documents)\n",
    "    result = set()\n",
    "    for d1_index, d1 in enumerate(documents):\n",
    "        related_documents = []\n",
    "        for d2_index, d2 in enumerate(documents):\n",
    "            if document_date_distanse(d1,d2) < timedelta(hours=24):\n",
    "                #print d1_index, d2_index\n",
    "                #print similarity[d1_index][d2_index]\n",
    "                related_documents.append((d2, similarity[d1_index][d2_index]))\n",
    "        \n",
    "        top_k = heapq.nlargest(k, related_documents, key=lambda x: x[1])        \n",
    "        if top_k:\n",
    "            for elem, sim in top_k:\n",
    "                result.add((d1.index, elem.index))\n",
    "    print 'document_to_documet_time_relation', len(result)\n",
    "    return result\n",
    "    \n",
    "\n",
    "def get_text_to_text_relation(news, tweets, k=3):\n",
    "    \"\"\"result is a list of index pairs in array news+tweets\"\"\"\n",
    "    tweets = tweets[:100]\n",
    "    news = news[:100]\n",
    "    \n",
    "    tweet_to_tweet_hashtags = get_tweet_to_tweet_hashtags_relation(tweets, k)\n",
    "    NE_set = get_NE_from_news(news)\n",
    "    tweet_to_tweet_NER = get_tweet_to_tweet_NER_relation(tweets, NE_set, k)\n",
    "    tweet_to_tweet_time = get_document_to_documet_time_relation(tweets, k)\n",
    "    news_to_news_time = get_document_to_documet_time_relation(news, k)\n",
    "    \n",
    "    total_relations = tweet_to_tweet_hashtags | tweet_to_tweet_NER | tweet_to_tweet_time | news_to_news_time\n",
    "    \n",
    "    return filter(lambda x: x[0] != x[1], total_relations)\n",
    "res = get_text_to_text_relation(news, tweets)"
   ]
  },
  {
   "cell_type": "code",
   "execution_count": 7,
   "metadata": {
    "collapsed": false
   },
   "outputs": [
    {
     "name": "stdout",
     "output_type": "stream",
     "text": [
      "set([(13738, 13739), (13771, 13771), (13766, 13766), (13751, 13750), (13804, 13804), (13722, 13724), (75, 73), (13783, 13801), (13736, 13737), (13806, 13807), (13792, 13791), (13770, 13771), (13791, 13792), (79, 78), (13786, 13785), (13787, 13789), (13747, 13746), (38, 40), (13748, 13749), (13775, 13771), (59, 60), (13758, 13758), (55, 54), (13789, 13746), (3, 6), (46, 46), (13726, 13725), (73, 73), (57, 59), (84, 84), (13791, 13763), (55, 56), (13738, 13756), (59, 61), (13809, 13746), (13768, 13769), (13789, 13789), (13750, 13750), (13776, 13801), (13788, 13788), (9, 9), (13722, 13739), (13746, 13759), (34, 35), (13775, 13776), (13760, 13762), (15, 13), (13803, 13732), (13, 13), (13753, 13753), (80, 79), (4, 12), (0, 4), (13729, 13728), (91, 91), (1, 33), (13772, 13774), (86, 84), (58, 59), (13724, 13726), (20, 21), (13798, 13737), (98, 97), (13802, 13804), (41, 43), (13738, 13761), (18, 18), (13716, 13714), (13745, 13745), (10, 9), (13782, 13763), (77, 76), (13756, 13755), (13714, 13714), (13780, 13761), (13799, 13799), (84, 86), (50, 51), (13756, 13754), (13767, 13725), (13754, 13753), (13735, 13792), (29, 29), (30, 30), (13737, 13737), (63, 62), (76, 77), (13791, 13791), (35, 34), (13797, 13759), (42, 43), (13749, 13749), (13763, 13760), (13746, 13745), (80, 80), (13759, 13752), (13732, 13730), (13737, 13798), (97, 97), (85, 85), (13725, 13766), (13798, 13800), (13783, 13784), (13746, 13797), (13731, 13729), (13778, 13780), (13738, 13737), (13766, 13764), (13740, 13740), (13804, 13806), (13722, 13722), (13717, 13719), (82, 81), (13806, 13805), (13809, 13759), (88, 88), (13781, 13797), (8, 7), (13786, 13787), (69, 70), (33, 32), (78, 80), (53, 78), (95, 93), (65, 65), (97, 96), (92, 92), (13727, 13807), (66, 64), (54, 54), (13755, 13733), (74, 74), (71, 72), (89, 88), (13795, 13794), (13728, 13728), (13773, 13773), (13776, 13759), (13719, 13718), (13767, 13767), (13803, 13789), (13807, 13806), (13727, 13728), (17, 16), (13789, 13787), (13782, 13780), (13715, 13714), (61, 61), (13810, 13808), (16, 16), (13759, 13760), (13744, 13729), (13720, 13752), (24, 23), (13810, 13810), (13761, 13770), (13791, 13802), (13799, 13800), (15, 15), (13755, 13754), (13808, 13808), (13753, 13759), (13797, 13798), (13741, 13743), (13754, 13756), (13742, 13741), (13802, 13760), (19, 20), (13732, 13803), (36, 38), (97, 98), (5, 41), (13738, 13733), (13725, 13725), (13718, 13718), (13783, 13783), (13720, 13721), (13800, 13800), (13809, 13797), (37, 39), (80, 78), (45, 45), (90, 90), (26, 28), (13774, 13773), (13775, 13761), (13730, 13731), (13796, 13794), (29, 27), (13712, 13713), (13785, 13786), (13739, 13738), (6, 7), (13740, 13741), (36, 36), (13770, 13772), (13766, 13763), (13792, 13798), (13751, 13749), (52, 83), (13756, 13738), (77, 77), (13723, 13724), (42, 41), (13801, 13799), (13763, 13762), (13732, 13731), (13733, 13776), (13786, 13786), (37, 38), (13723, 13746), (13747, 13745), (13735, 13735), (13759, 13754), (13780, 13770), (13722, 13733), (13784, 13784), (13809, 13808), (13770, 13770), (13764, 13766), (43, 42), (13731, 13731), (13729, 13744), (13782, 13782), (13775, 13775), (51, 49), (44, 44), (82, 82), (56, 55), (13778, 13778), (13742, 13743), (13767, 13768), (13727, 13727), (13803, 13798), (13711, 13809), (99, 98), (13776, 13776), (22, 23), (13717, 13717), (13765, 13766), (13801, 13800), (13727, 13733), (88, 90), (8, 9), (0, 0), (13777, 13776), (65, 66), (13779, 13778), (13733, 13738), (13757, 13757), (12, 13), (13731, 13736), (94, 92), (0, 11), (13712, 13711), (13795, 13796), (32, 33), (48, 47), (13805, 13807), (13776, 13783), (33, 33), (13761, 13756), (68, 67), (13715, 13716), (61, 59), (38, 39), (13763, 13782), (10, 10), (13781, 13782), (67, 68), (39, 38), (13720, 13754), (64, 66), (24, 25), (13760, 13766), (73, 72), (13755, 13756), (13808, 13810), (13797, 13796), (35, 33), (13741, 13741), (13785, 13796), (13754, 13754), (28, 29), (13752, 13752), (13794, 13795), (13728, 13727), (13743, 13742), (13792, 13793), (21, 20), (13764, 13764), (13797, 13746), (13721, 13722), (13763, 13791), (32, 32), (58, 57), (13746, 13746), (13723, 13759), (7, 9), (13735, 13736), (13759, 13759), (45, 43), (13802, 13791), (67, 66), (13744, 13744), (26, 26), (13733, 13734), (78, 78), (13730, 13729), (71, 71), (13728, 13744), (2, 3), (13755, 13739), (13716, 13715), (13739, 13740), (13752, 13759), (13713, 13714), (13738, 13738), (14, 13), (13725, 13716), (13802, 13802), (13751, 13751), (13761, 13761), (13768, 13768), (13770, 13780), (13806, 13806), (40, 40), (13711, 13712), (13781, 13784), (81, 81), (13787, 13786), (94, 94), (13747, 13747), (13763, 13802), (13780, 13780), (41, 41), (48, 48), (16, 17), (83, 82), (70, 71), (3, 3), (13739, 13733), (13784, 13798), (4, 4), (13740, 13734), (72, 71), (13726, 13724), (13719, 13717), (13739, 13755), (13777, 13775), (13791, 13760), (13769, 13767), (13765, 13764), (13807, 13805), (60, 61), (13746, 13732), (28, 27), (9, 10), (13762, 13763), (94, 93), (13780, 13779), (13722, 13738), (57, 57), (65, 64), (13779, 13780), (13757, 13755), (13760, 13761), (13798, 13799), (13, 14), (46, 45), (13807, 13727), (13753, 13754), (21, 19), (13760, 13725), (13729, 13729), (1, 34), (54, 55), (13805, 13805), (58, 58), (13724, 13725), (13769, 13768), (20, 20), (13801, 13783), (72, 73), (63, 61), (13790, 13791), (32, 31), (13788, 13786), (48, 49), (90, 89), (11, 11), (13745, 13746), (10, 8), (13781, 13780), (13734, 13736), (44, 45), (13756, 13770), (13789, 13803), (13799, 13796), (92, 93), (82, 83), (13774, 13774), (93, 92), (27, 28), (1, 1), (35, 35), (13754, 13752), (13796, 13799), (2, 6), (13788, 13787), (13716, 13763), (13726, 13726), (13752, 13754), (13794, 13793), (13733, 13807), (50, 49), (13770, 13761), (96, 97), (13803, 13804), (17, 18), (13736, 13731), (13723, 13723), (42, 42), (13749, 13750), (13721, 13720), (13763, 13761), (13780, 13793), (13711, 13711), (20, 19), (85, 84), (13756, 13761), (13760, 13791), (13759, 13753), (62, 62), (13780, 13775), (13784, 13781), (13744, 13746), (13732, 13789), (91, 90), (13725, 13767), (13797, 13803), (13798, 13803), (30, 29), (13794, 13780), (59, 59), (13801, 13759), (95, 94), (53, 53), (13777, 13777), (13738, 13736), (13771, 13770), (13766, 13767), (69, 69), (13803, 13797), (13804, 13805), (99, 97), (13801, 13776), (18, 16), (13736, 13736), (13763, 13766), (23, 23), (13787, 13788), (79, 79), (77, 75), (13735, 13731), (53, 79), (13748, 13750), (34, 34), (51, 50), (13775, 13770), (25, 25), (98, 98), (62, 63), (13758, 13759), (13725, 13760), (13731, 13735), (83, 84), (70, 69), (71, 73), (14, 14), (13795, 13795), (13773, 13774), (31, 30), (13719, 13719), (13797, 13784), (40, 39), (13772, 13773), (13796, 13785), (81, 82), (13776, 13780), (33, 31), (52, 52), (13807, 13807), (13727, 13729), (13789, 13788), (13750, 13751), (13715, 13715), (9, 8), (13716, 13716), (13762, 13761), (13744, 13728), (68, 66), (13760, 13763), (74, 73), (13798, 13797), (13799, 13801), (75, 75), (13755, 13755), (13753, 13752), (13756, 13756), (13785, 13799), (13754, 13759), (13733, 13722), (4, 11), (13789, 13732), (13802, 13763), (86, 85), (13737, 13735), (13776, 13771), (13748, 13748), (13725, 13726), (13793, 13776), (34, 33), (41, 42), (13720, 13720), (13810, 13809), (13800, 13799), (13798, 13784), (13745, 13744), (43, 44), (13729, 13781), (13759, 13746), (25, 24), (13732, 13732), (13788, 13800), (13774, 13772), (13782, 13781), (13797, 13792), (13730, 13730), (31, 31), (13803, 13746), (23, 25), (13746, 13803), (29, 28), (13712, 13712), (13739, 13739), (6, 6), (13737, 13736), (13772, 13772), (7, 7), (87, 87), (13770, 13775), (13792, 13797), (13791, 13790), (31, 32), (55, 55), (13723, 13725), (57, 58), (75, 74), (13763, 13763), (13734, 13734), (93, 93), (89, 90), (13784, 13783), (13737, 13797), (27, 29), (13809, 13809), (47, 47), (93, 94), (96, 96), (39, 39), (13723, 13797), (76, 75), (56, 54), (13771, 13772), (13766, 13765), (13767, 13769), (13793, 13794), (13794, 13776), (15, 14), (13722, 13723), (99, 99), (22, 22), (13717, 13718), (13770, 13776), (13801, 13801), (17, 17), (88, 89), (8, 8), (90, 91), (13793, 13791), (13780, 13776), (28, 28), (13728, 13781), (13779, 13779), (98, 99), (13733, 13739), (13775, 13780), (12, 12), (13798, 13792), (66, 65), (13714, 13715), (3, 7), (13775, 13774), (13758, 13760), (13728, 13729), (6, 3), (13773, 13772), (13733, 13727), (5, 5), (46, 44), (13767, 13766), (13759, 13797), (36, 37), (13738, 13755), (13800, 13788), (40, 38), (19, 19), (13750, 13749), (13783, 13785), (61, 60), (38, 38), (84, 85), (43, 43), (13785, 13785), (13720, 13753), (24, 24), (14, 15), (62, 61), (12, 11), (49, 48), (27, 27), (13808, 13809), (13797, 13797), (13741, 13742), (81, 83), (13796, 13796), (13716, 13760), (13785, 13787), (13718, 13717), (13794, 13794), (66, 66), (52, 47), (73, 71), (7, 8), (13743, 13743), (5, 40), (13729, 13727), (13771, 13776), (13797, 13737), (13725, 13724), (13792, 13792), (13718, 13719), (13803, 13803), (13731, 13792), (13720, 13722), (13716, 13725), (74, 72), (13734, 13740), (13761, 13762), (45, 44), (67, 67), (13733, 13735), (13780, 13738), (18, 17), (13796, 13795), (2, 2), (25, 23), (96, 98), (13739, 13741), (13809, 13810), (13713, 13715), (13740, 13742), (91, 52), (13742, 13742), (13766, 13760), (13759, 13809), (13803, 13792), (13746, 13789), (13736, 13735), (13771, 13775), (23, 24), (13711, 13713), (87, 86), (13734, 13735), (13787, 13787), (13735, 13734), (13793, 13793), (13784, 13785), (13725, 13763), (78, 79), (13731, 13730), (68, 68), (13776, 13733), (83, 83), (70, 70), (13797, 13809), (13784, 13797), (56, 56), (13778, 13779), (13802, 13803), (13793, 13792), (13759, 13758), (21, 21), (13776, 13777), (13765, 13765), (11, 12), (60, 60), (47, 49), (13762, 13762), (13780, 13778), (64, 64), (49, 47), (39, 40), (63, 63), (11, 13), (64, 65), (13757, 13756), (13760, 13760), (13798, 13798), (13732, 13746), (13736, 13792), (13746, 13723), (13714, 13713), (37, 37), (85, 86), (13733, 13733), (13800, 13801), (13767, 13760), (86, 86), (13805, 13806), (47, 48), (13724, 13724), (13769, 13769), (13, 15), (13792, 13803), (72, 72), (13744, 13781), (30, 31), (13790, 13790), (49, 49), (19, 21), (79, 80), (13809, 13711), (50, 50), (13781, 13781), (51, 51), (76, 76), (13760, 13767), (13761, 13775), (13743, 13741), (13790, 13792), (13807, 13733), (54, 56), (60, 59), (13754, 13755), (13799, 13785), (13752, 13753), (87, 85), (13776, 13775), (16, 18), (13793, 13780), (13803, 13805), (13783, 13776), (22, 24), (13738, 13770), (13764, 13765), (13749, 13751), (13721, 13721), (13768, 13767), (13746, 13747), (13738, 13780), (44, 43), (13761, 13760), (89, 89), (92, 94), (13744, 13745), (26, 27), (13783, 13759), (13766, 13725), (69, 71), (95, 95), (13755, 13738), (13760, 13802), (13713, 13713)])\n"
     ]
    }
   ],
   "source": [
    "print res\n"
   ]
  },
  {
   "cell_type": "code",
   "execution_count": null,
   "metadata": {
    "collapsed": true
   },
   "outputs": [],
   "source": []
  }
 ],
 "metadata": {
  "kernelspec": {
   "display_name": "Python 2",
   "language": "python",
   "name": "python2"
  },
  "language_info": {
   "codemirror_mode": {
    "name": "ipython",
    "version": 2
   },
   "file_extension": ".py",
   "mimetype": "text/x-python",
   "name": "python",
   "nbconvert_exporter": "python",
   "pygments_lexer": "ipython2",
   "version": "2.7.10"
  }
 },
 "nbformat": 4,
 "nbformat_minor": 0
}
