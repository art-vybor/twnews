{
 "cells": [
  {
   "cell_type": "code",
   "execution_count": 2,
   "metadata": {
    "collapsed": false
   },
   "outputs": [],
   "source": [
    "import argparse\n",
    "import logging\n",
    "import sys\n",
    "\n",
    "from twnews import defaults\n",
    "from twnews.dataset.dataset import Dataset\n",
    "from twnews.resolver import resolve, url_analyse\n",
    "from twnews.utils.memoize import memo_process\n",
    "from twnews.utils.text_processors import lemmatize_texts, build_tf_idf_matrix\n",
    "from twnews.wtmf.wtmf import WTMF\n",
    "\n",
    "class A:\n",
    "    try_to_load=True\n",
    "args = A()\n",
    "\n",
    "dataset = memo_process(lambda: Dataset(fraction=1), 'dataset', try_to_load=args.try_to_load)\n",
    "lemmatized_texts = memo_process(lambda: lemmatize_texts(dataset.get_texts()), 'texts', try_to_load=args.try_to_load)\n",
    "corpus, tf_idf_matrix = memo_process(lambda: build_tf_idf_matrix(lemmatized_texts), 'tf_idf_corpus', try_to_load=args.try_to_load)"
   ]
  },
  {
   "cell_type": "code",
   "execution_count": 54,
   "metadata": {
    "collapsed": false
   },
   "outputs": [
    {
     "name": "stdout",
     "output_type": "stream",
     "text": [
      "[    0     1     1 ..., 25288 25289 25289] [ 8016  6642  8490 ..., 12809  5186  5773] [ 0.25288191  0.15906349  0.18916121 ...,  0.21720038  0.15955598\n",
      "  0.15335907]\n",
      "(314036,) (314036,)\n"
     ]
    },
    {
     "data": {
      "text/plain": [
       "(array([    0,     1,     1, ..., 25288, 25289, 25289], dtype=int32),\n",
       " array([ 8016,  6642,  8490, ..., 12809,  5186,  5773], dtype=int32),\n",
       " array([ 1.,  1.,  1., ...,  1.,  1.,  1.]))"
      ]
     },
     "execution_count": 54,
     "metadata": {},
     "output_type": "execute_result"
    }
   ],
   "source": [
    "\n",
    "find(r.tocsc())"
   ]
  },
  {
   "cell_type": "code",
   "execution_count": 57,
   "metadata": {
    "collapsed": true
   },
   "outputs": [],
   "source": [
    "import numpy as np\n",
    "from scipy import sparse\n",
    "\n",
    "from twnews.timeit import timeit\n",
    "from twnews.utils.memoize import memo_process\n",
    "wm = 1e-2\n",
    "from scipy.sparse import find, coo_matrix\n",
    "\n",
    "@timeit\n",
    "def build_weight_matrix(tf_idf_matrix):\n",
    "    \n",
    "\n",
    "    nnz_i, nnz_j, elems = find(tf_idf_matrix)\n",
    "    value = np.zeros(elems.shape[0])\n",
    "    value.fill(wm)\n",
    "\n",
    "    r = coo_matrix((value, (nnz_i,nnz_j)))\n",
    "    return r.tocsc()"
   ]
  },
  {
   "cell_type": "code",
   "execution_count": 58,
   "metadata": {
    "collapsed": true
   },
   "outputs": [],
   "source": [
    "W = build_weight_matrix(tf_idf_matrix)"
   ]
  },
  {
   "cell_type": "code",
   "execution_count": 65,
   "metadata": {
    "collapsed": false
   },
   "outputs": [
    {
     "data": {
      "text/plain": [
       "25290"
      ]
     },
     "execution_count": 65,
     "metadata": {},
     "output_type": "execute_result"
    }
   ],
   "source": [
    "max(W[:,1].shape)"
   ]
  },
  {
   "cell_type": "code",
   "execution_count": 28,
   "metadata": {
    "collapsed": false
   },
   "outputs": [
    {
     "data": {
      "text/plain": [
       "(314036,)"
      ]
     },
     "execution_count": 28,
     "metadata": {},
     "output_type": "execute_result"
    }
   ],
   "source": [
    "elems.shape"
   ]
  },
  {
   "cell_type": "code",
   "execution_count": null,
   "metadata": {
    "collapsed": true
   },
   "outputs": [],
   "source": []
  }
 ],
 "metadata": {
  "kernelspec": {
   "display_name": "Python 2",
   "language": "python",
   "name": "python2"
  },
  "language_info": {
   "codemirror_mode": {
    "name": "ipython",
    "version": 2
   },
   "file_extension": ".py",
   "mimetype": "text/x-python",
   "name": "python",
   "nbconvert_exporter": "python",
   "pygments_lexer": "ipython2",
   "version": "2.7.10"
  }
 },
 "nbformat": 4,
 "nbformat_minor": 0
}
