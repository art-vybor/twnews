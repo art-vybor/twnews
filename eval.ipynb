{
 "cells": [
  {
   "cell_type": "code",
   "execution_count": 45,
   "metadata": {
    "collapsed": false
   },
   "outputs": [
    {
     "name": "stdout",
     "output_type": "stream",
     "text": [
      "2016-04-08 01:32:58.886807: Start of loading news from /home/avybornov/twnews_data/rss\n",
      "2016-04-08 01:32:59.511320: News successfully loaded\n"
     ]
    }
   ],
   "source": [
    "from twnews.wtmf.support_functions import memo_process, dump, load\n",
    "from twnews.dataset.dataset import Dataset\n",
    "from twnews.timeit import timeit\n",
    "\n",
    "texts = load('texts')\n",
    "#P,Q = load('PQ')\n",
    "dataset = Dataset(fraction=1, use_dataset_if_exist=True)\n",
    "news_texts = dataset.news_storage.get_texts()\n",
    "news = dataset.news_storage.get_news()\n",
    "tweets = dataset.dataset\n",
    "tweets_texts = [tweet.text for tweet in dataset.dataset]"
   ]
  },
  {
   "cell_type": "code",
   "execution_count": 46,
   "metadata": {
    "collapsed": false
   },
   "outputs": [
    {
     "data": {
      "text/plain": [
       "(7084, 1091)"
      ]
     },
     "execution_count": 46,
     "metadata": {},
     "output_type": "execute_result"
    }
   ],
   "source": [
    "\n",
    "len(news), len(tweets)"
   ]
  },
  {
   "cell_type": "code",
   "execution_count": 47,
   "metadata": {
    "collapsed": false
   },
   "outputs": [],
   "source": [
    "nt = []\n",
    "\n",
    "for i in range(len(news_texts)):\n",
    "    nt.append((news[i], Q[:,i]))\n",
    "\n",
    "tt = []\n",
    "for i in range(len(tweets_texts)):\n",
    "    tt.append((tweets[i], Q[:,i+len(news_texts)]))\n"
   ]
  },
  {
   "cell_type": "code",
   "execution_count": 48,
   "metadata": {
    "collapsed": false
   },
   "outputs": [],
   "source": [
    "from sklearn.metrics.pairwise import cosine_similarity\n",
    "\n",
    "    #sorted(sim_list, key=lambda x: x[1])\n",
    "    "
   ]
  },
  {
   "cell_type": "code",
   "execution_count": 49,
   "metadata": {
    "collapsed": false,
    "scrolled": true
   },
   "outputs": [],
   "source": [
    "from multiprocessing import Pool\n",
    "\n",
    "def find_topk_sim_news_to_tweet(tweet_pair, news_pairs, k=10):\n",
    "    tweet, tweet_latent_vector = tweet_pair\n",
    "    sim_list = [(x[0],cosine_similarity(tweet_latent_vector, x[1])[0][0]) for x in news_pairs]\n",
    "    sim_list = sorted(sim_list, key=lambda x: x[1], reverse=True)\n",
    "    #print map(lambda x: x[1], sim_list[:10])\n",
    "    return map(lambda x: x[0], sim_list[:k])\n",
    "\n",
    "def f(x):\n",
    "    t, news_pairs, k = x\n",
    "    res = find_topk_sim_news_to_tweet(t, news_pairs, k)\n",
    "    return (t[0], res)\n",
    "\n",
    "@timeit\n",
    "def find_topk_sim_news_to_tweets(tweet_pairs, news_pairs, k=10):    \n",
    "    top = []\n",
    "\n",
    "    p = Pool(16)\n",
    "    return p.map(f, [(tweet, news_pairs, k) for tweet in tweet_pairs])\n",
    "    #return top"
   ]
  },
  {
   "cell_type": "code",
   "execution_count": 50,
   "metadata": {
    "collapsed": false
   },
   "outputs": [
    {
     "name": "stdout",
     "output_type": "stream",
     "text": [
      "2016-04-08 01:33:04.593133: Function find_topk_sim_news_to_tweets started with time measure\n",
      "2016-04-08 01:37:51.887236: Function find_topk_sim_news_to_tweets finished in 4m47.2938511372s\n"
     ]
    }
   ],
   "source": [
    "top = find_topk_sim_news_to_tweets(tt,nt, k=10)\n"
   ]
  },
  {
   "cell_type": "code",
   "execution_count": 53,
   "metadata": {
    "collapsed": false
   },
   "outputs": [
    {
     "data": {
      "text/plain": [
       "0.27277726856095325"
      ]
     },
     "execution_count": 53,
     "metadata": {},
     "output_type": "execute_result"
    }
   ],
   "source": [
    "def TOPK_t(tweet, top_news, k):\n",
    "    top_news = top_news[:k]\n",
    "    for news in top_news:\n",
    "        for url in tweet.urls:\n",
    "            if url == news.link:\n",
    "                return 1\n",
    "    return 0\n",
    "\n",
    "def TOPK(tweets, k):\n",
    "    s = 0\n",
    "    for tweet, top_news in tweets:\n",
    "        s += TOPK_t(tweet, top_news, k)\n",
    "    return s*1.0/len(tweets)\n",
    "\n",
    "\n",
    "def ATOP(tweets, N):\n",
    "    s = 0\n",
    "    for k in range(1,N+1):\n",
    "        s += TOPK(tweets, k)\n",
    "    return s*1.0/N\n",
    "\n",
    "# for res in top[:2]:\n",
    "#     tweet, top_news = res\n",
    "#     print tweet, \n",
    "#     for news in top_news:\n",
    "#         print news.title\n",
    "#     print '-------'\n",
    "ATOP(top,10)\n",
    "    #top_news\n",
    "#print top[0][1][0].title\n"
   ]
  },
  {
   "cell_type": "code",
   "execution_count": 58,
   "metadata": {
    "collapsed": false
   },
   "outputs": [],
   "source": [
    "import random\n",
    "k = 10\n",
    "set_news = set(news)\n",
    "random_top = []\n",
    "for tweet in tweets:\n",
    "    sample = random.sample(set_news, k)\n",
    "    random_top.append((tweet, sample))"
   ]
  },
  {
   "cell_type": "code",
   "execution_count": 59,
   "metadata": {
    "collapsed": false
   },
   "outputs": [
    {
     "data": {
      "text/plain": [
       "0.0009165902841429881"
      ]
     },
     "execution_count": 59,
     "metadata": {},
     "output_type": "execute_result"
    }
   ],
   "source": [
    "ATOP(random_top,10)"
   ]
  },
  {
   "cell_type": "code",
   "execution_count": null,
   "metadata": {
    "collapsed": true
   },
   "outputs": [],
   "source": []
  }
 ],
 "metadata": {
  "kernelspec": {
   "display_name": "Python 2",
   "language": "python",
   "name": "python2"
  },
  "language_info": {
   "codemirror_mode": {
    "name": "ipython",
    "version": 2
   },
   "file_extension": ".py",
   "mimetype": "text/x-python",
   "name": "python",
   "nbconvert_exporter": "python",
   "pygments_lexer": "ipython2",
   "version": "2.7.10"
  }
 },
 "nbformat": 4,
 "nbformat_minor": 0
}
